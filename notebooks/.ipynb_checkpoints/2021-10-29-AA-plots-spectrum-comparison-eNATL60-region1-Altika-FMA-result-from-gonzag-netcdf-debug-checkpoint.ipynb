{
 "cells": [
  {
   "cell_type": "markdown",
   "id": "disabled-baker",
   "metadata": {},
   "source": [
    "# Comparison of spectrum between eNATL60 outputs and Altika Satellite for Region 1 and ASO months\n",
    "\n",
    "Requisites :\n",
    " - notebook process-spectrum-comparison-eNATL60-region1-Altkia-ASO has successfully run and produced all the necessary result_*.nc in results_Altika-eNATL60-Region1-ASO\n",
    " - gonzag_cloud\n",
    " - climporn\n",
    " \n"
   ]
  },
  {
   "cell_type": "code",
   "execution_count": 1,
   "id": "lesser-interaction",
   "metadata": {},
   "outputs": [],
   "source": [
    "import sys,os\n",
    "from os import getenv\n",
    "import warnings\n",
    "warnings.filterwarnings(\"ignore\")"
   ]
  },
  {
   "cell_type": "code",
   "execution_count": 2,
   "id": "corresponding-consumer",
   "metadata": {},
   "outputs": [],
   "source": [
    "GONZAG_DIR = '/home/jovyan/gonzag_cloud'\n",
    "sys.path.append(GONZAG_DIR)\n",
    "import gonzag as gz\n"
   ]
  },
  {
   "cell_type": "code",
   "execution_count": 3,
   "id": "impossible-scholar",
   "metadata": {},
   "outputs": [],
   "source": [
    "import xarray as xr\n",
    "import sys\n",
    "import glob\n",
    "import numpy as nmp\n",
    "import pandas as pd\n",
    "\n",
    "import matplotlib\n",
    "import matplotlib.pyplot as plt\n",
    "import matplotlib.dates as mdates\n",
    "\n",
    "import cartopy.crs as ccrs\n",
    "import cartopy.feature as cfeature\n",
    "import cartopy.mpl.ticker as cticker\n",
    "\n",
    "from scipy.signal import detrend, tukey\n",
    "\n",
    "%matplotlib inline\n"
   ]
  },
  {
   "cell_type": "code",
   "execution_count": 4,
   "id": "biblical-patent",
   "metadata": {},
   "outputs": [],
   "source": [
    "CLIMPORN_DIR = '/home/jovyan/climporn/python' ; # get it there: https://github.com/brodeau/climporn\n",
    "sys.path.append(CLIMPORN_DIR)\n",
    "import climporn as cp\n"
   ]
  },
  {
   "cell_type": "markdown",
   "id": "14452f7f-738e-4646-ab38-7206ddeba49b",
   "metadata": {},
   "source": [
    "### Params"
   ]
  },
  {
   "cell_type": "markdown",
   "id": "254f15e9-8111-41da-b14e-7530203ec139",
   "metadata": {},
   "source": [
    "For the model"
   ]
  },
  {
   "cell_type": "code",
   "execution_count": 5,
   "id": "e84b730a-01b3-44f8-b1f5-ca242f5001fe",
   "metadata": {},
   "outputs": [],
   "source": [
    "model = 'eNATL60'\n",
    "region = '1'\n",
    "season = 'fma'\n",
    "name_mod = model+'-Region'+region+'-'+season\n",
    "name_ssh_mod = 'sossheig_bl'\n"
   ]
  },
  {
   "cell_type": "markdown",
   "id": "c774fc99-f592-4365-a8ad-7b480aaf6c76",
   "metadata": {},
   "source": [
    "For altimetry data"
   ]
  },
  {
   "cell_type": "code",
   "execution_count": 6,
   "id": "14d003be-3b8c-4327-977c-7aaaa3a38c3a",
   "metadata": {},
   "outputs": [],
   "source": [
    "name_sat= 'Altika'\n",
    "name_ssh_sat='sla_unfiltered'\n"
   ]
  },
  {
   "cell_type": "code",
   "execution_count": 13,
   "id": "5e775397-97a3-44a9-9435-d205b688252b",
   "metadata": {},
   "outputs": [
    {
     "name": "stdout",
     "output_type": "stream",
     "text": [
      "../results/results_Altika/result_gonzag_netcdf_nocloud.nc\n"
     ]
    }
   ],
   "source": [
    "=ls fresults)"
   ]
  },
  {
   "cell_type": "markdown",
   "id": "outstanding-turkey",
   "metadata": {},
   "source": [
    "### Data"
   ]
  },
  {
   "cell_type": "code",
   "execution_count": 14,
   "id": "joined-custom",
   "metadata": {},
   "outputs": [],
   "source": [
    "fresults='../results/results_Altika-eNATL60-Region1-fma/result_gonzag_netcdf_nocloud.nc'\n",
    "dsn=xr.open_dataset(fresults)"
   ]
  },
  {
   "cell_type": "code",
   "execution_count": 15,
   "id": "variable-stereo",
   "metadata": {},
   "outputs": [],
   "source": [
    "#clean up some remaining Nans\n",
    "\n",
    "ds=dsn.where(nmp.isnan(dsn[name_ssh_sat])==0, drop=True)"
   ]
  },
  {
   "cell_type": "code",
   "execution_count": 16,
   "id": "aaeb8991-66a6-4562-a132-4d91c26c5201",
   "metadata": {},
   "outputs": [
    {
     "name": "stdout",
     "output_type": "stream",
     "text": [
      "[ 0.5009018  -0.27430055 -0.297748   ...  0.47344372  0.46618026\n",
      "  0.45283228]\n"
     ]
    }
   ],
   "source": [
    "print(ds[name_ssh_mod].values)"
   ]
  },
  {
   "cell_type": "code",
   "execution_count": 20,
   "id": "9088275e-df69-4d98-9fbe-33c908bc48a1",
   "metadata": {},
   "outputs": [
    {
     "data": {
      "text/html": [
       "<div><svg style=\"position: absolute; width: 0; height: 0; overflow: hidden\">\n",
       "<defs>\n",
       "<symbol id=\"icon-database\" viewBox=\"0 0 32 32\">\n",
       "<path d=\"M16 0c-8.837 0-16 2.239-16 5v4c0 2.761 7.163 5 16 5s16-2.239 16-5v-4c0-2.761-7.163-5-16-5z\"></path>\n",
       "<path d=\"M16 17c-8.837 0-16-2.239-16-5v6c0 2.761 7.163 5 16 5s16-2.239 16-5v-6c0 2.761-7.163 5-16 5z\"></path>\n",
       "<path d=\"M16 26c-8.837 0-16-2.239-16-5v6c0 2.761 7.163 5 16 5s16-2.239 16-5v-6c0 2.761-7.163 5-16 5z\"></path>\n",
       "</symbol>\n",
       "<symbol id=\"icon-file-text2\" viewBox=\"0 0 32 32\">\n",
       "<path d=\"M28.681 7.159c-0.694-0.947-1.662-2.053-2.724-3.116s-2.169-2.030-3.116-2.724c-1.612-1.182-2.393-1.319-2.841-1.319h-15.5c-1.378 0-2.5 1.121-2.5 2.5v27c0 1.378 1.122 2.5 2.5 2.5h23c1.378 0 2.5-1.122 2.5-2.5v-19.5c0-0.448-0.137-1.23-1.319-2.841zM24.543 5.457c0.959 0.959 1.712 1.825 2.268 2.543h-4.811v-4.811c0.718 0.556 1.584 1.309 2.543 2.268zM28 29.5c0 0.271-0.229 0.5-0.5 0.5h-23c-0.271 0-0.5-0.229-0.5-0.5v-27c0-0.271 0.229-0.5 0.5-0.5 0 0 15.499-0 15.5 0v7c0 0.552 0.448 1 1 1h7v19.5z\"></path>\n",
       "<path d=\"M23 26h-14c-0.552 0-1-0.448-1-1s0.448-1 1-1h14c0.552 0 1 0.448 1 1s-0.448 1-1 1z\"></path>\n",
       "<path d=\"M23 22h-14c-0.552 0-1-0.448-1-1s0.448-1 1-1h14c0.552 0 1 0.448 1 1s-0.448 1-1 1z\"></path>\n",
       "<path d=\"M23 18h-14c-0.552 0-1-0.448-1-1s0.448-1 1-1h14c0.552 0 1 0.448 1 1s-0.448 1-1 1z\"></path>\n",
       "</symbol>\n",
       "</defs>\n",
       "</svg>\n",
       "<style>/* CSS stylesheet for displaying xarray objects in jupyterlab.\n",
       " *\n",
       " */\n",
       "\n",
       ":root {\n",
       "  --xr-font-color0: var(--jp-content-font-color0, rgba(0, 0, 0, 1));\n",
       "  --xr-font-color2: var(--jp-content-font-color2, rgba(0, 0, 0, 0.54));\n",
       "  --xr-font-color3: var(--jp-content-font-color3, rgba(0, 0, 0, 0.38));\n",
       "  --xr-border-color: var(--jp-border-color2, #e0e0e0);\n",
       "  --xr-disabled-color: var(--jp-layout-color3, #bdbdbd);\n",
       "  --xr-background-color: var(--jp-layout-color0, white);\n",
       "  --xr-background-color-row-even: var(--jp-layout-color1, white);\n",
       "  --xr-background-color-row-odd: var(--jp-layout-color2, #eeeeee);\n",
       "}\n",
       "\n",
       "html[theme=dark],\n",
       "body.vscode-dark {\n",
       "  --xr-font-color0: rgba(255, 255, 255, 1);\n",
       "  --xr-font-color2: rgba(255, 255, 255, 0.54);\n",
       "  --xr-font-color3: rgba(255, 255, 255, 0.38);\n",
       "  --xr-border-color: #1F1F1F;\n",
       "  --xr-disabled-color: #515151;\n",
       "  --xr-background-color: #111111;\n",
       "  --xr-background-color-row-even: #111111;\n",
       "  --xr-background-color-row-odd: #313131;\n",
       "}\n",
       "\n",
       ".xr-wrap {\n",
       "  display: block;\n",
       "  min-width: 300px;\n",
       "  max-width: 700px;\n",
       "}\n",
       "\n",
       ".xr-text-repr-fallback {\n",
       "  /* fallback to plain text repr when CSS is not injected (untrusted notebook) */\n",
       "  display: none;\n",
       "}\n",
       "\n",
       ".xr-header {\n",
       "  padding-top: 6px;\n",
       "  padding-bottom: 6px;\n",
       "  margin-bottom: 4px;\n",
       "  border-bottom: solid 1px var(--xr-border-color);\n",
       "}\n",
       "\n",
       ".xr-header > div,\n",
       ".xr-header > ul {\n",
       "  display: inline;\n",
       "  margin-top: 0;\n",
       "  margin-bottom: 0;\n",
       "}\n",
       "\n",
       ".xr-obj-type,\n",
       ".xr-array-name {\n",
       "  margin-left: 2px;\n",
       "  margin-right: 10px;\n",
       "}\n",
       "\n",
       ".xr-obj-type {\n",
       "  color: var(--xr-font-color2);\n",
       "}\n",
       "\n",
       ".xr-sections {\n",
       "  padding-left: 0 !important;\n",
       "  display: grid;\n",
       "  grid-template-columns: 150px auto auto 1fr 20px 20px;\n",
       "}\n",
       "\n",
       ".xr-section-item {\n",
       "  display: contents;\n",
       "}\n",
       "\n",
       ".xr-section-item input {\n",
       "  display: none;\n",
       "}\n",
       "\n",
       ".xr-section-item input + label {\n",
       "  color: var(--xr-disabled-color);\n",
       "}\n",
       "\n",
       ".xr-section-item input:enabled + label {\n",
       "  cursor: pointer;\n",
       "  color: var(--xr-font-color2);\n",
       "}\n",
       "\n",
       ".xr-section-item input:enabled + label:hover {\n",
       "  color: var(--xr-font-color0);\n",
       "}\n",
       "\n",
       ".xr-section-summary {\n",
       "  grid-column: 1;\n",
       "  color: var(--xr-font-color2);\n",
       "  font-weight: 500;\n",
       "}\n",
       "\n",
       ".xr-section-summary > span {\n",
       "  display: inline-block;\n",
       "  padding-left: 0.5em;\n",
       "}\n",
       "\n",
       ".xr-section-summary-in:disabled + label {\n",
       "  color: var(--xr-font-color2);\n",
       "}\n",
       "\n",
       ".xr-section-summary-in + label:before {\n",
       "  display: inline-block;\n",
       "  content: '►';\n",
       "  font-size: 11px;\n",
       "  width: 15px;\n",
       "  text-align: center;\n",
       "}\n",
       "\n",
       ".xr-section-summary-in:disabled + label:before {\n",
       "  color: var(--xr-disabled-color);\n",
       "}\n",
       "\n",
       ".xr-section-summary-in:checked + label:before {\n",
       "  content: '▼';\n",
       "}\n",
       "\n",
       ".xr-section-summary-in:checked + label > span {\n",
       "  display: none;\n",
       "}\n",
       "\n",
       ".xr-section-summary,\n",
       ".xr-section-inline-details {\n",
       "  padding-top: 4px;\n",
       "  padding-bottom: 4px;\n",
       "}\n",
       "\n",
       ".xr-section-inline-details {\n",
       "  grid-column: 2 / -1;\n",
       "}\n",
       "\n",
       ".xr-section-details {\n",
       "  display: none;\n",
       "  grid-column: 1 / -1;\n",
       "  margin-bottom: 5px;\n",
       "}\n",
       "\n",
       ".xr-section-summary-in:checked ~ .xr-section-details {\n",
       "  display: contents;\n",
       "}\n",
       "\n",
       ".xr-array-wrap {\n",
       "  grid-column: 1 / -1;\n",
       "  display: grid;\n",
       "  grid-template-columns: 20px auto;\n",
       "}\n",
       "\n",
       ".xr-array-wrap > label {\n",
       "  grid-column: 1;\n",
       "  vertical-align: top;\n",
       "}\n",
       "\n",
       ".xr-preview {\n",
       "  color: var(--xr-font-color3);\n",
       "}\n",
       "\n",
       ".xr-array-preview,\n",
       ".xr-array-data {\n",
       "  padding: 0 5px !important;\n",
       "  grid-column: 2;\n",
       "}\n",
       "\n",
       ".xr-array-data,\n",
       ".xr-array-in:checked ~ .xr-array-preview {\n",
       "  display: none;\n",
       "}\n",
       "\n",
       ".xr-array-in:checked ~ .xr-array-data,\n",
       ".xr-array-preview {\n",
       "  display: inline-block;\n",
       "}\n",
       "\n",
       ".xr-dim-list {\n",
       "  display: inline-block !important;\n",
       "  list-style: none;\n",
       "  padding: 0 !important;\n",
       "  margin: 0;\n",
       "}\n",
       "\n",
       ".xr-dim-list li {\n",
       "  display: inline-block;\n",
       "  padding: 0;\n",
       "  margin: 0;\n",
       "}\n",
       "\n",
       ".xr-dim-list:before {\n",
       "  content: '(';\n",
       "}\n",
       "\n",
       ".xr-dim-list:after {\n",
       "  content: ')';\n",
       "}\n",
       "\n",
       ".xr-dim-list li:not(:last-child):after {\n",
       "  content: ',';\n",
       "  padding-right: 5px;\n",
       "}\n",
       "\n",
       ".xr-has-index {\n",
       "  font-weight: bold;\n",
       "}\n",
       "\n",
       ".xr-var-list,\n",
       ".xr-var-item {\n",
       "  display: contents;\n",
       "}\n",
       "\n",
       ".xr-var-item > div,\n",
       ".xr-var-item label,\n",
       ".xr-var-item > .xr-var-name span {\n",
       "  background-color: var(--xr-background-color-row-even);\n",
       "  margin-bottom: 0;\n",
       "}\n",
       "\n",
       ".xr-var-item > .xr-var-name:hover span {\n",
       "  padding-right: 5px;\n",
       "}\n",
       "\n",
       ".xr-var-list > li:nth-child(odd) > div,\n",
       ".xr-var-list > li:nth-child(odd) > label,\n",
       ".xr-var-list > li:nth-child(odd) > .xr-var-name span {\n",
       "  background-color: var(--xr-background-color-row-odd);\n",
       "}\n",
       "\n",
       ".xr-var-name {\n",
       "  grid-column: 1;\n",
       "}\n",
       "\n",
       ".xr-var-dims {\n",
       "  grid-column: 2;\n",
       "}\n",
       "\n",
       ".xr-var-dtype {\n",
       "  grid-column: 3;\n",
       "  text-align: right;\n",
       "  color: var(--xr-font-color2);\n",
       "}\n",
       "\n",
       ".xr-var-preview {\n",
       "  grid-column: 4;\n",
       "}\n",
       "\n",
       ".xr-var-name,\n",
       ".xr-var-dims,\n",
       ".xr-var-dtype,\n",
       ".xr-preview,\n",
       ".xr-attrs dt {\n",
       "  white-space: nowrap;\n",
       "  overflow: hidden;\n",
       "  text-overflow: ellipsis;\n",
       "  padding-right: 10px;\n",
       "}\n",
       "\n",
       ".xr-var-name:hover,\n",
       ".xr-var-dims:hover,\n",
       ".xr-var-dtype:hover,\n",
       ".xr-attrs dt:hover {\n",
       "  overflow: visible;\n",
       "  width: auto;\n",
       "  z-index: 1;\n",
       "}\n",
       "\n",
       ".xr-var-attrs,\n",
       ".xr-var-data {\n",
       "  display: none;\n",
       "  background-color: var(--xr-background-color) !important;\n",
       "  padding-bottom: 5px !important;\n",
       "}\n",
       "\n",
       ".xr-var-attrs-in:checked ~ .xr-var-attrs,\n",
       ".xr-var-data-in:checked ~ .xr-var-data {\n",
       "  display: block;\n",
       "}\n",
       "\n",
       ".xr-var-data > table {\n",
       "  float: right;\n",
       "}\n",
       "\n",
       ".xr-var-name span,\n",
       ".xr-var-data,\n",
       ".xr-attrs {\n",
       "  padding-left: 25px !important;\n",
       "}\n",
       "\n",
       ".xr-attrs,\n",
       ".xr-var-attrs,\n",
       ".xr-var-data {\n",
       "  grid-column: 1 / -1;\n",
       "}\n",
       "\n",
       "dl.xr-attrs {\n",
       "  padding: 0;\n",
       "  margin: 0;\n",
       "  display: grid;\n",
       "  grid-template-columns: 125px auto;\n",
       "}\n",
       "\n",
       ".xr-attrs dt,\n",
       ".xr-attrs dd {\n",
       "  padding: 0;\n",
       "  margin: 0;\n",
       "  float: left;\n",
       "  padding-right: 10px;\n",
       "  width: auto;\n",
       "}\n",
       "\n",
       ".xr-attrs dt {\n",
       "  font-weight: normal;\n",
       "  grid-column: 1;\n",
       "}\n",
       "\n",
       ".xr-attrs dt:hover span {\n",
       "  display: inline-block;\n",
       "  background: var(--xr-background-color);\n",
       "  padding-right: 10px;\n",
       "}\n",
       "\n",
       ".xr-attrs dd {\n",
       "  grid-column: 2;\n",
       "  white-space: pre-wrap;\n",
       "  word-break: break-all;\n",
       "}\n",
       "\n",
       ".xr-icon-database,\n",
       ".xr-icon-file-text2 {\n",
       "  display: inline-block;\n",
       "  vertical-align: middle;\n",
       "  width: 1em;\n",
       "  height: 1.5em !important;\n",
       "  stroke-width: 0;\n",
       "  stroke: currentColor;\n",
       "  fill: currentColor;\n",
       "}\n",
       "</style><pre class='xr-text-repr-fallback'>&lt;xarray.Dataset&gt;\n",
       "Dimensions:         (time: 10198)\n",
       "Coordinates:\n",
       "  * time            (time) datetime64[ns] 2014-02-02T23:14:13 ... 2014-04-29T...\n",
       "Data variables:\n",
       "    latitude        (time) float32 39.97 39.92 39.86 39.8 ... 30.15 30.1 30.04\n",
       "    longitude       (time) float32 289.7 289.7 289.6 289.6 ... 287.5 287.5 287.5\n",
       "    sossheig_np     (time) float32 0.5009 -0.273 -0.2974 ... 0.4733 0.4661 0.453\n",
       "    sossheig_bl     (time) float32 0.5009 -0.2743 -0.2977 ... 0.4662 0.4528\n",
       "    sla_unfiltered  (time) float32 -0.011 -0.001 0.026 ... 0.056 0.031 0.051\n",
       "    distance        (time) float32 0.0 6.592 13.18 ... 1.094e+05 1.094e+05\n",
       "Attributes:\n",
       "    about:    Created with Gonzag package =&gt; https://github.com/brodeau/gonzag</pre><div class='xr-wrap' hidden><div class='xr-header'><div class='xr-obj-type'>xarray.Dataset</div></div><ul class='xr-sections'><li class='xr-section-item'><input id='section-682bd33b-472d-4f37-b7d0-b8a7deb20506' class='xr-section-summary-in' type='checkbox' disabled ><label for='section-682bd33b-472d-4f37-b7d0-b8a7deb20506' class='xr-section-summary'  title='Expand/collapse section'>Dimensions:</label><div class='xr-section-inline-details'><ul class='xr-dim-list'><li><span class='xr-has-index'>time</span>: 10198</li></ul></div><div class='xr-section-details'></div></li><li class='xr-section-item'><input id='section-01c111f6-9a02-4beb-ab41-71676d839a9c' class='xr-section-summary-in' type='checkbox'  checked><label for='section-01c111f6-9a02-4beb-ab41-71676d839a9c' class='xr-section-summary' >Coordinates: <span>(1)</span></label><div class='xr-section-inline-details'></div><div class='xr-section-details'><ul class='xr-var-list'><li class='xr-var-item'><div class='xr-var-name'><span class='xr-has-index'>time</span></div><div class='xr-var-dims'>(time)</div><div class='xr-var-dtype'>datetime64[ns]</div><div class='xr-var-preview xr-preview'>2014-02-02T23:14:13 ... 2014-04-...</div><input id='attrs-d74b9a7f-7027-4b63-a07e-11136a1a43e2' class='xr-var-attrs-in' type='checkbox' disabled><label for='attrs-d74b9a7f-7027-4b63-a07e-11136a1a43e2' title='Show/Hide attributes'><svg class='icon xr-icon-file-text2'><use xlink:href='#icon-file-text2'></use></svg></label><input id='data-beaf231c-0a4d-4503-ae75-875976ba41d5' class='xr-var-data-in' type='checkbox'><label for='data-beaf231c-0a4d-4503-ae75-875976ba41d5' title='Show/Hide data repr'><svg class='icon xr-icon-database'><use xlink:href='#icon-database'></use></svg></label><div class='xr-var-attrs'><dl class='xr-attrs'></dl></div><div class='xr-var-data'><pre>array([&#x27;2014-02-02T23:14:13.000000000&#x27;, &#x27;2014-02-02T23:14:13.980000000&#x27;,\n",
       "       &#x27;2014-02-02T23:14:14.960000000&#x27;, ..., &#x27;2014-04-29T23:14:02.683653120&#x27;,\n",
       "       &#x27;2014-04-29T23:14:03.663652864&#x27;, &#x27;2014-04-29T23:14:04.643652864&#x27;],\n",
       "      dtype=&#x27;datetime64[ns]&#x27;)</pre></div></li></ul></div></li><li class='xr-section-item'><input id='section-ba93bd74-54d2-40f3-9954-fac4a92364de' class='xr-section-summary-in' type='checkbox'  checked><label for='section-ba93bd74-54d2-40f3-9954-fac4a92364de' class='xr-section-summary' >Data variables: <span>(6)</span></label><div class='xr-section-inline-details'></div><div class='xr-section-details'><ul class='xr-var-list'><li class='xr-var-item'><div class='xr-var-name'><span>latitude</span></div><div class='xr-var-dims'>(time)</div><div class='xr-var-dtype'>float32</div><div class='xr-var-preview xr-preview'>39.97 39.92 39.86 ... 30.1 30.04</div><input id='attrs-d1a8f0bd-850e-4508-81b1-5f3b5bf43604' class='xr-var-attrs-in' type='checkbox' ><label for='attrs-d1a8f0bd-850e-4508-81b1-5f3b5bf43604' title='Show/Hide attributes'><svg class='icon xr-icon-file-text2'><use xlink:href='#icon-file-text2'></use></svg></label><input id='data-8738f10a-497a-4a7c-85ff-a5aa76923d13' class='xr-var-data-in' type='checkbox'><label for='data-8738f10a-497a-4a7c-85ff-a5aa76923d13' title='Show/Hide data repr'><svg class='icon xr-icon-database'><use xlink:href='#icon-database'></use></svg></label><div class='xr-var-attrs'><dl class='xr-attrs'><dt><span>units :</span></dt><dd>deg.N</dd><dt><span>long_name :</span></dt><dd>Latitude</dd></dl></div><div class='xr-var-data'><pre>array([39.97331 , 39.915794, 39.858276, ..., 30.154057, 30.096212,\n",
       "       30.038366], dtype=float32)</pre></div></li><li class='xr-var-item'><div class='xr-var-name'><span>longitude</span></div><div class='xr-var-dims'>(time)</div><div class='xr-var-dtype'>float32</div><div class='xr-var-preview xr-preview'>289.7 289.7 289.6 ... 287.5 287.5</div><input id='attrs-0c0a2c76-a17a-4922-8ba4-d4acda2ec324' class='xr-var-attrs-in' type='checkbox' ><label for='attrs-0c0a2c76-a17a-4922-8ba4-d4acda2ec324' title='Show/Hide attributes'><svg class='icon xr-icon-file-text2'><use xlink:href='#icon-file-text2'></use></svg></label><input id='data-d25eb791-1bf5-4a95-af13-e1a0795add15' class='xr-var-data-in' type='checkbox'><label for='data-d25eb791-1bf5-4a95-af13-e1a0795add15' title='Show/Hide data repr'><svg class='icon xr-icon-database'><use xlink:href='#icon-database'></use></svg></label><div class='xr-var-attrs'><dl class='xr-attrs'><dt><span>units :</span></dt><dd>deg.E</dd><dt><span>long_name :</span></dt><dd>Longitude</dd></dl></div><div class='xr-var-data'><pre>array([289.6818 , 289.66296, 289.64417, ..., 287.48978, 287.4741 ,\n",
       "       287.45844], dtype=float32)</pre></div></li><li class='xr-var-item'><div class='xr-var-name'><span>sossheig_np</span></div><div class='xr-var-dims'>(time)</div><div class='xr-var-dtype'>float32</div><div class='xr-var-preview xr-preview'>0.5009 -0.273 ... 0.4661 0.453</div><input id='attrs-8ae693c9-606b-4ec1-b0e2-bacee80652bd' class='xr-var-attrs-in' type='checkbox' ><label for='attrs-8ae693c9-606b-4ec1-b0e2-bacee80652bd' title='Show/Hide attributes'><svg class='icon xr-icon-file-text2'><use xlink:href='#icon-file-text2'></use></svg></label><input id='data-795c84d3-cd8f-4bf4-be7e-9b2bf504c4d1' class='xr-var-data-in' type='checkbox'><label for='data-795c84d3-cd8f-4bf4-be7e-9b2bf504c4d1' title='Show/Hide data repr'><svg class='icon xr-icon-database'><use xlink:href='#icon-database'></use></svg></label><div class='xr-var-attrs'><dl class='xr-attrs'><dt><span>units :</span></dt><dd>m</dd><dt><span>long_name :</span></dt><dd>Model SSH interpolated in space (nearest-point) and time on satellite track</dd></dl></div><div class='xr-var-data'><pre>array([ 0.5009018 , -0.2730235 , -0.29737192, ...,  0.4732585 ,\n",
       "        0.46609902,  0.45297176], dtype=float32)</pre></div></li><li class='xr-var-item'><div class='xr-var-name'><span>sossheig_bl</span></div><div class='xr-var-dims'>(time)</div><div class='xr-var-dtype'>float32</div><div class='xr-var-preview xr-preview'>0.5009 -0.2743 ... 0.4662 0.4528</div><input id='attrs-469a95ae-758e-424c-a028-f4694f1c37be' class='xr-var-attrs-in' type='checkbox' ><label for='attrs-469a95ae-758e-424c-a028-f4694f1c37be' title='Show/Hide attributes'><svg class='icon xr-icon-file-text2'><use xlink:href='#icon-file-text2'></use></svg></label><input id='data-3653ca5a-b3bb-45b8-a2a3-d5b0b47a5c86' class='xr-var-data-in' type='checkbox'><label for='data-3653ca5a-b3bb-45b8-a2a3-d5b0b47a5c86' title='Show/Hide data repr'><svg class='icon xr-icon-database'><use xlink:href='#icon-database'></use></svg></label><div class='xr-var-attrs'><dl class='xr-attrs'><dt><span>units :</span></dt><dd>m</dd><dt><span>long_name :</span></dt><dd>Model SSH interpolated in space (bilinear) and time on satellite track</dd></dl></div><div class='xr-var-data'><pre>array([ 0.5009018 , -0.27430055, -0.297748  , ...,  0.47344372,\n",
       "        0.46618026,  0.45283228], dtype=float32)</pre></div></li><li class='xr-var-item'><div class='xr-var-name'><span>sla_unfiltered</span></div><div class='xr-var-dims'>(time)</div><div class='xr-var-dtype'>float32</div><div class='xr-var-preview xr-preview'>-0.011 -0.001 0.026 ... 0.031 0.051</div><input id='attrs-cbdedf9e-0727-41c6-a7e1-41ba22b24484' class='xr-var-attrs-in' type='checkbox' ><label for='attrs-cbdedf9e-0727-41c6-a7e1-41ba22b24484' title='Show/Hide attributes'><svg class='icon xr-icon-file-text2'><use xlink:href='#icon-file-text2'></use></svg></label><input id='data-8f326281-13a1-4de3-a4c3-ff599787283d' class='xr-var-data-in' type='checkbox'><label for='data-8f326281-13a1-4de3-a4c3-ff599787283d' title='Show/Hide data repr'><svg class='icon xr-icon-database'><use xlink:href='#icon-database'></use></svg></label><div class='xr-var-attrs'><dl class='xr-attrs'><dt><span>units :</span></dt><dd>m</dd><dt><span>long_name :</span></dt><dd>Input satellite data</dd></dl></div><div class='xr-var-data'><pre>array([-0.011, -0.001,  0.026, ...,  0.056,  0.031,  0.051], dtype=float32)</pre></div></li><li class='xr-var-item'><div class='xr-var-name'><span>distance</span></div><div class='xr-var-dims'>(time)</div><div class='xr-var-dtype'>float32</div><div class='xr-var-preview xr-preview'>0.0 6.592 ... 1.094e+05 1.094e+05</div><input id='attrs-e293da4b-8e7a-4f64-bdf3-ff36615c352c' class='xr-var-attrs-in' type='checkbox' ><label for='attrs-e293da4b-8e7a-4f64-bdf3-ff36615c352c' title='Show/Hide attributes'><svg class='icon xr-icon-file-text2'><use xlink:href='#icon-file-text2'></use></svg></label><input id='data-200350be-eb76-40ad-89e3-601836bbf9d3' class='xr-var-data-in' type='checkbox'><label for='data-200350be-eb76-40ad-89e3-601836bbf9d3' title='Show/Hide data repr'><svg class='icon xr-icon-database'><use xlink:href='#icon-database'></use></svg></label><div class='xr-var-attrs'><dl class='xr-attrs'><dt><span>units :</span></dt><dd>km</dd><dt><span>long_name :</span></dt><dd>Cumulated distance from first point</dd></dl></div><div class='xr-var-data'><pre>array([0.0000000e+00, 6.5918798e+00, 1.3183934e+01, ..., 1.0934996e+05,\n",
       "       1.0935657e+05, 1.0936318e+05], dtype=float32)</pre></div></li></ul></div></li><li class='xr-section-item'><input id='section-02e8cc9f-4b4c-4c2a-8d79-015804e09a94' class='xr-section-summary-in' type='checkbox'  checked><label for='section-02e8cc9f-4b4c-4c2a-8d79-015804e09a94' class='xr-section-summary' >Attributes: <span>(1)</span></label><div class='xr-section-inline-details'></div><div class='xr-section-details'><dl class='xr-attrs'><dt><span>about :</span></dt><dd>Created with Gonzag package =&gt; https://github.com/brodeau/gonzag</dd></dl></div></li></ul></div></div>"
      ],
      "text/plain": [
       "<xarray.Dataset>\n",
       "Dimensions:         (time: 10198)\n",
       "Coordinates:\n",
       "  * time            (time) datetime64[ns] 2014-02-02T23:14:13 ... 2014-04-29T...\n",
       "Data variables:\n",
       "    latitude        (time) float32 39.97 39.92 39.86 39.8 ... 30.15 30.1 30.04\n",
       "    longitude       (time) float32 289.7 289.7 289.6 289.6 ... 287.5 287.5 287.5\n",
       "    sossheig_np     (time) float32 0.5009 -0.273 -0.2974 ... 0.4733 0.4661 0.453\n",
       "    sossheig_bl     (time) float32 0.5009 -0.2743 -0.2977 ... 0.4662 0.4528\n",
       "    sla_unfiltered  (time) float32 -0.011 -0.001 0.026 ... 0.056 0.031 0.051\n",
       "    distance        (time) float32 0.0 6.592 13.18 ... 1.094e+05 1.094e+05\n",
       "Attributes:\n",
       "    about:    Created with Gonzag package => https://github.com/brodeau/gonzag"
      ]
     },
     "execution_count": 20,
     "metadata": {},
     "output_type": "execute_result"
    }
   ],
   "source": [
    "ds\n"
   ]
  },
  {
   "cell_type": "markdown",
   "id": "demonstrated-irish",
   "metadata": {},
   "source": [
    "### Spectrum"
   ]
  },
  {
   "cell_type": "code",
   "execution_count": 21,
   "id": "ec511143-cfaa-4b20-8fb4-d405da6350de",
   "metadata": {},
   "outputs": [],
   "source": [
    "VTe=ds.time\n",
    "Vd=ds.distance\n",
    "VM=ds[name_ssh_mod]\n",
    "rcut_time=1.2e+09\n",
    "rcut_dist=7.8"
   ]
  },
  {
   "cell_type": "code",
   "execution_count": 22,
   "id": "27fa87bb-02d4-4b37-bc4c-e2d211894ea6",
   "metadata": {},
   "outputs": [],
   "source": [
    "    Nr = len(VTe)\n",
    "    if len(Vd) != Nr: MsgExit('[FindUnbrokenSegments()] => size of \"Vd\" != size of \"VTe\"')\n",
    "    if len(VM) != Nr: MsgExit('[FindUnbrokenSegments()] => size of \"VM\" != size of \"VTe\"')\n"
   ]
  },
  {
   "cell_type": "code",
   "execution_count": 24,
   "id": "d4634a08-c256-48db-8c48-7c9e9498cca1",
   "metadata": {},
   "outputs": [],
   "source": [
    "    nb_seg   = 0\n",
    "    idx_strt = [] ; # index of first valid point of the segment\n",
    "    idx_stop = [] ; # index of last  valid point of the segment\n"
   ]
  },
  {
   "cell_type": "code",
   "execution_count": 25,
   "id": "4f7fa5eb-8a0a-4f07-a03c-025cee903a69",
   "metadata": {},
   "outputs": [],
   "source": [
    "    if nmp.ma.is_masked(VM):\n",
    "        Vmsk = VM.mask\n",
    "    else:\n",
    "        Vmsk = nmp.zeros(Nr, dtype=bool)\n",
    "    jr=0\n"
   ]
  },
  {
   "cell_type": "code",
   "execution_count": 28,
   "id": "6bb91835-f1bb-4a38-85e8-9ce82c7ba5e4",
   "metadata": {},
   "outputs": [],
   "source": [
    "vm = VM[jr]"
   ]
  },
  {
   "cell_type": "code",
   "execution_count": 30,
   "id": "28bd0f38-5fd5-4746-94a4-c481f84d4944",
   "metadata": {},
   "outputs": [
    {
     "name": "stdout",
     "output_type": "stream",
     "text": [
      "ok\n"
     ]
    }
   ],
   "source": [
    "if (vm!=0.) and (vm<100.):\n",
    "    print('ok')"
   ]
  },
  {
   "cell_type": "code",
   "execution_count": null,
   "id": "c520ee64-91b4-48ce-9ab6-21fa9e87f01f",
   "metadata": {},
   "outputs": [],
   "source": []
  },
  {
   "cell_type": "code",
   "execution_count": 17,
   "id": "tested-reading",
   "metadata": {},
   "outputs": [
    {
     "ename": "TypeError",
     "evalue": "The DType <class 'numpy.dtype[timedelta64]'> could not be promoted by <class 'numpy.dtype[float64]'>. This means that no common DType exists for the given inputs. For example they cannot be stored in a single array unless the dtype is `object`. The full list of DTypes is: (<class 'numpy.dtype[timedelta64]'>, <class 'numpy.dtype[float64]'>)",
     "output_type": "error",
     "traceback": [
      "\u001b[0;31m---------------------------------------------------------------------------\u001b[0m",
      "\u001b[0;31mTypeError\u001b[0m                                 Traceback (most recent call last)",
      "\u001b[0;32m<timed exec>\u001b[0m in \u001b[0;36m<module>\u001b[0;34m\u001b[0m\n",
      "\u001b[0;32m~/gonzag_cloud/gonzag/spectralysis.py\u001b[0m in \u001b[0;36mFindUnbrokenSegments\u001b[0;34m(VTe, Vd, VM, rcut_time, rcut_dist)\u001b[0m\n\u001b[1;32m     67\u001b[0m                     \u001b[0mprint\u001b[0m\u001b[0;34m(\u001b[0m\u001b[0;34m' => starting at jt='\u001b[0m\u001b[0;34m+\u001b[0m\u001b[0mstr\u001b[0m\u001b[0;34m(\u001b[0m\u001b[0mjr\u001b[0m\u001b[0;34m)\u001b[0m\u001b[0;34m)\u001b[0m\u001b[0;34m\u001b[0m\u001b[0;34m\u001b[0m\u001b[0m\n\u001b[1;32m     68\u001b[0m                 \u001b[0midx_strt\u001b[0m\u001b[0;34m.\u001b[0m\u001b[0mappend\u001b[0m\u001b[0;34m(\u001b[0m\u001b[0mjr\u001b[0m\u001b[0;34m)\u001b[0m\u001b[0;34m\u001b[0m\u001b[0;34m\u001b[0m\u001b[0m\n\u001b[0;32m---> 69\u001b[0;31m                 \u001b[0;32mwhile\u001b[0m \u001b[0;34m(\u001b[0m\u001b[0;32mnot\u001b[0m \u001b[0mVmsk\u001b[0m\u001b[0;34m[\u001b[0m\u001b[0mjr\u001b[0m\u001b[0;34m+\u001b[0m\u001b[0;36m1\u001b[0m\u001b[0;34m]\u001b[0m\u001b[0;34m)\u001b[0m \u001b[0;32mand\u001b[0m \u001b[0;34m(\u001b[0m\u001b[0mVM\u001b[0m\u001b[0;34m[\u001b[0m\u001b[0mjr\u001b[0m\u001b[0;34m+\u001b[0m\u001b[0;36m1\u001b[0m\u001b[0;34m]\u001b[0m\u001b[0;34m!=\u001b[0m\u001b[0;36m0.\u001b[0m\u001b[0;34m)\u001b[0m \u001b[0;32mand\u001b[0m \u001b[0;34m(\u001b[0m\u001b[0mVTe\u001b[0m\u001b[0;34m[\u001b[0m\u001b[0mjr\u001b[0m\u001b[0;34m+\u001b[0m\u001b[0;36m1\u001b[0m\u001b[0;34m]\u001b[0m\u001b[0;34m-\u001b[0m\u001b[0mVTe\u001b[0m\u001b[0;34m[\u001b[0m\u001b[0mjr\u001b[0m\u001b[0;34m]\u001b[0m \u001b[0;34m<\u001b[0m \u001b[0mrcut_time\u001b[0m\u001b[0;34m)\u001b[0m \u001b[0;32mand\u001b[0m \u001b[0;34m(\u001b[0m\u001b[0mVd\u001b[0m\u001b[0;34m[\u001b[0m\u001b[0mjr\u001b[0m\u001b[0;34m+\u001b[0m\u001b[0;36m1\u001b[0m\u001b[0;34m]\u001b[0m\u001b[0;34m-\u001b[0m\u001b[0mVd\u001b[0m\u001b[0;34m[\u001b[0m\u001b[0mjr\u001b[0m\u001b[0;34m]\u001b[0m \u001b[0;34m<\u001b[0m \u001b[0mrcut_dist\u001b[0m\u001b[0;34m)\u001b[0m \u001b[0;32mand\u001b[0m \u001b[0;34m(\u001b[0m\u001b[0mvm\u001b[0m\u001b[0;34m<\u001b[0m\u001b[0;36m100.\u001b[0m\u001b[0;34m)\u001b[0m \u001b[0;34m:\u001b[0m\u001b[0;34m\u001b[0m\u001b[0;34m\u001b[0m\u001b[0m\n\u001b[0m\u001b[1;32m     70\u001b[0m                     \u001b[0mjr\u001b[0m \u001b[0;34m=\u001b[0m \u001b[0mjr\u001b[0m\u001b[0;34m+\u001b[0m\u001b[0;36m1\u001b[0m\u001b[0;34m\u001b[0m\u001b[0;34m\u001b[0m\u001b[0m\n\u001b[1;32m     71\u001b[0m                     \u001b[0;32mif\u001b[0m \u001b[0mjr\u001b[0m\u001b[0;34m==\u001b[0m\u001b[0mNr\u001b[0m\u001b[0;34m-\u001b[0m\u001b[0;36m1\u001b[0m\u001b[0;34m:\u001b[0m \u001b[0;32mbreak\u001b[0m\u001b[0;34m\u001b[0m\u001b[0;34m\u001b[0m\u001b[0m\n",
      "\u001b[0;32m/srv/conda/envs/notebook/lib/python3.8/site-packages/xarray/core/_typed_ops.py\u001b[0m in \u001b[0;36m__lt__\u001b[0;34m(self, other)\u001b[0m\n\u001b[1;32m    234\u001b[0m \u001b[0;34m\u001b[0m\u001b[0m\n\u001b[1;32m    235\u001b[0m     \u001b[0;32mdef\u001b[0m \u001b[0m__lt__\u001b[0m\u001b[0;34m(\u001b[0m\u001b[0mself\u001b[0m\u001b[0;34m,\u001b[0m \u001b[0mother\u001b[0m\u001b[0;34m)\u001b[0m\u001b[0;34m:\u001b[0m\u001b[0;34m\u001b[0m\u001b[0;34m\u001b[0m\u001b[0m\n\u001b[0;32m--> 236\u001b[0;31m         \u001b[0;32mreturn\u001b[0m \u001b[0mself\u001b[0m\u001b[0;34m.\u001b[0m\u001b[0m_binary_op\u001b[0m\u001b[0;34m(\u001b[0m\u001b[0mother\u001b[0m\u001b[0;34m,\u001b[0m \u001b[0moperator\u001b[0m\u001b[0;34m.\u001b[0m\u001b[0mlt\u001b[0m\u001b[0;34m)\u001b[0m\u001b[0;34m\u001b[0m\u001b[0;34m\u001b[0m\u001b[0m\n\u001b[0m\u001b[1;32m    237\u001b[0m \u001b[0;34m\u001b[0m\u001b[0m\n\u001b[1;32m    238\u001b[0m     \u001b[0;32mdef\u001b[0m \u001b[0m__le__\u001b[0m\u001b[0;34m(\u001b[0m\u001b[0mself\u001b[0m\u001b[0;34m,\u001b[0m \u001b[0mother\u001b[0m\u001b[0;34m)\u001b[0m\u001b[0;34m:\u001b[0m\u001b[0;34m\u001b[0m\u001b[0;34m\u001b[0m\u001b[0m\n",
      "\u001b[0;32m/srv/conda/envs/notebook/lib/python3.8/site-packages/xarray/core/dataarray.py\u001b[0m in \u001b[0;36m_binary_op\u001b[0;34m(self, other, f, reflexive)\u001b[0m\n\u001b[1;32m   3018\u001b[0m \u001b[0;34m\u001b[0m\u001b[0m\n\u001b[1;32m   3019\u001b[0m         variable = (\n\u001b[0;32m-> 3020\u001b[0;31m             \u001b[0mf\u001b[0m\u001b[0;34m(\u001b[0m\u001b[0mself\u001b[0m\u001b[0;34m.\u001b[0m\u001b[0mvariable\u001b[0m\u001b[0;34m,\u001b[0m \u001b[0mother_variable\u001b[0m\u001b[0;34m)\u001b[0m\u001b[0;34m\u001b[0m\u001b[0;34m\u001b[0m\u001b[0m\n\u001b[0m\u001b[1;32m   3021\u001b[0m             \u001b[0;32mif\u001b[0m \u001b[0;32mnot\u001b[0m \u001b[0mreflexive\u001b[0m\u001b[0;34m\u001b[0m\u001b[0;34m\u001b[0m\u001b[0m\n\u001b[1;32m   3022\u001b[0m             \u001b[0;32melse\u001b[0m \u001b[0mf\u001b[0m\u001b[0;34m(\u001b[0m\u001b[0mother_variable\u001b[0m\u001b[0;34m,\u001b[0m \u001b[0mself\u001b[0m\u001b[0;34m.\u001b[0m\u001b[0mvariable\u001b[0m\u001b[0;34m)\u001b[0m\u001b[0;34m\u001b[0m\u001b[0;34m\u001b[0m\u001b[0m\n",
      "\u001b[0;32m/srv/conda/envs/notebook/lib/python3.8/site-packages/xarray/core/_typed_ops.py\u001b[0m in \u001b[0;36m__lt__\u001b[0;34m(self, other)\u001b[0m\n\u001b[1;32m    424\u001b[0m \u001b[0;34m\u001b[0m\u001b[0m\n\u001b[1;32m    425\u001b[0m     \u001b[0;32mdef\u001b[0m \u001b[0m__lt__\u001b[0m\u001b[0;34m(\u001b[0m\u001b[0mself\u001b[0m\u001b[0;34m,\u001b[0m \u001b[0mother\u001b[0m\u001b[0;34m)\u001b[0m\u001b[0;34m:\u001b[0m\u001b[0;34m\u001b[0m\u001b[0;34m\u001b[0m\u001b[0m\n\u001b[0;32m--> 426\u001b[0;31m         \u001b[0;32mreturn\u001b[0m \u001b[0mself\u001b[0m\u001b[0;34m.\u001b[0m\u001b[0m_binary_op\u001b[0m\u001b[0;34m(\u001b[0m\u001b[0mother\u001b[0m\u001b[0;34m,\u001b[0m \u001b[0moperator\u001b[0m\u001b[0;34m.\u001b[0m\u001b[0mlt\u001b[0m\u001b[0;34m)\u001b[0m\u001b[0;34m\u001b[0m\u001b[0;34m\u001b[0m\u001b[0m\n\u001b[0m\u001b[1;32m    427\u001b[0m \u001b[0;34m\u001b[0m\u001b[0m\n\u001b[1;32m    428\u001b[0m     \u001b[0;32mdef\u001b[0m \u001b[0m__le__\u001b[0m\u001b[0;34m(\u001b[0m\u001b[0mself\u001b[0m\u001b[0;34m,\u001b[0m \u001b[0mother\u001b[0m\u001b[0;34m)\u001b[0m\u001b[0;34m:\u001b[0m\u001b[0;34m\u001b[0m\u001b[0;34m\u001b[0m\u001b[0m\n",
      "\u001b[0;32m/srv/conda/envs/notebook/lib/python3.8/site-packages/xarray/core/variable.py\u001b[0m in \u001b[0;36m_binary_op\u001b[0;34m(self, other, f, reflexive)\u001b[0m\n\u001b[1;32m   2333\u001b[0m         \u001b[0;32mwith\u001b[0m \u001b[0mnp\u001b[0m\u001b[0;34m.\u001b[0m\u001b[0merrstate\u001b[0m\u001b[0;34m(\u001b[0m\u001b[0mall\u001b[0m\u001b[0;34m=\u001b[0m\u001b[0;34m\"ignore\"\u001b[0m\u001b[0;34m)\u001b[0m\u001b[0;34m:\u001b[0m\u001b[0;34m\u001b[0m\u001b[0;34m\u001b[0m\u001b[0m\n\u001b[1;32m   2334\u001b[0m             new_data = (\n\u001b[0;32m-> 2335\u001b[0;31m                 \u001b[0mf\u001b[0m\u001b[0;34m(\u001b[0m\u001b[0mself_data\u001b[0m\u001b[0;34m,\u001b[0m \u001b[0mother_data\u001b[0m\u001b[0;34m)\u001b[0m \u001b[0;32mif\u001b[0m \u001b[0;32mnot\u001b[0m \u001b[0mreflexive\u001b[0m \u001b[0;32melse\u001b[0m \u001b[0mf\u001b[0m\u001b[0;34m(\u001b[0m\u001b[0mother_data\u001b[0m\u001b[0;34m,\u001b[0m \u001b[0mself_data\u001b[0m\u001b[0;34m)\u001b[0m\u001b[0;34m\u001b[0m\u001b[0;34m\u001b[0m\u001b[0m\n\u001b[0m\u001b[1;32m   2336\u001b[0m             )\n\u001b[1;32m   2337\u001b[0m         \u001b[0mresult\u001b[0m \u001b[0;34m=\u001b[0m \u001b[0mVariable\u001b[0m\u001b[0;34m(\u001b[0m\u001b[0mdims\u001b[0m\u001b[0;34m,\u001b[0m \u001b[0mnew_data\u001b[0m\u001b[0;34m,\u001b[0m \u001b[0mattrs\u001b[0m\u001b[0;34m=\u001b[0m\u001b[0mattrs\u001b[0m\u001b[0;34m)\u001b[0m\u001b[0;34m\u001b[0m\u001b[0;34m\u001b[0m\u001b[0m\n",
      "\u001b[0;31mTypeError\u001b[0m: The DType <class 'numpy.dtype[timedelta64]'> could not be promoted by <class 'numpy.dtype[float64]'>. This means that no common DType exists for the given inputs. For example they cannot be stored in a single array unless the dtype is `object`. The full list of DTypes is: (<class 'numpy.dtype[timedelta64]'>, <class 'numpy.dtype[float64]'>)"
     ]
    }
   ],
   "source": [
    "%%time\n",
    "\n",
    "ISeg_beg, ISeg_end = gz.FindUnbrokenSegments( ds.time, ds.distance, ds[name_ssh_mod],\\\n",
    "                                             rcut_time=1.2e+09, rcut_dist=7.8 )\n",
    "NbSeg, Nsl, IDEDSeg = gz.SegmentSelection(ISeg_beg, ISeg_end, np_valid_seg=70)\n",
    "\n"
   ]
  },
  {
   "cell_type": "code",
   "execution_count": null,
   "id": "f34461a8-97a8-43bf-8c36-3f1649986574",
   "metadata": {},
   "outputs": [],
   "source": [
    "IDEDSeg[15]"
   ]
  },
  {
   "cell_type": "code",
   "execution_count": null,
   "id": "1416fc9c-41ed-430f-8a5c-707354b7a937",
   "metadata": {},
   "outputs": [],
   "source": [
    "IDEDSeg2=nmp.delete(IDEDSeg, 15, axis=0)\n",
    "NbSeg2=NbSeg-1"
   ]
  },
  {
   "cell_type": "code",
   "execution_count": null,
   "id": "4eb0fc95-107a-4708-8145-b45ecff03f10",
   "metadata": {},
   "outputs": [],
   "source": [
    "IDEDSeg2"
   ]
  },
  {
   "cell_type": "code",
   "execution_count": null,
   "id": "165dcdd3-be59-43e7-ad30-957d9d570713",
   "metadata": {},
   "outputs": [],
   "source": [
    "XPs, XPm, rdist_sample = gz.Process4FFT( IDEDSeg2, ds.distance, ds[name_ssh_mod], ds[name_ssh_sat] )\n",
    "Kwn, PwSpc_s, PwSpc_m = gz.ApplyFFT( IDEDSeg2, XPs, XPm, rdist_sample )\n",
    "\n",
    "# Building our spectrum as the mean of the NbSeg spectra:\n",
    "vps_mod = nmp.mean(PwSpc_m[:,:],axis=0)\n",
    "vps_sat = nmp.mean(PwSpc_s[:,:],axis=0)\n"
   ]
  },
  {
   "cell_type": "code",
   "execution_count": null,
   "id": "first-latitude",
   "metadata": {},
   "outputs": [],
   "source": [
    "# Blabla for the plot:\n",
    "clr_sat = '#AD0000'\n",
    "clr_mod = '#008ab8'\n",
    "\n",
    "cinfrm = str(NbSeg)+' segments\\n'+str(Nsl)+' points/segment\\n'+r'$\\Delta$d sat.: '+str(round(rdist_sample,1))+' km'\n",
    "\n",
    "ii = cp.plot(\"pow_spectrum_ssh\")(Kwn, vps_mod, clab1=name_mod+' (\"'+name_ssh_mod+'\")', clr1=clr_mod, lw1=5, \\\n",
    "                                 cinfo=cinfrm, logo_on=False, \\\n",
    "                                 L_min=13., L_max=500., P_min_y=-6, P_max_y=1, \\\n",
    "                                 l_show_k4=False, l_show_k5=True, l_show_k11o3=False, l_show_k2=True, \\\n",
    "                                 vk2=Kwn, vps2=vps_sat, clab2=name_sat+' (\"'+name_ssh_sat+'\")', clr2=clr_sat, lw2=4)\n",
    "\n",
    "plt.savefig('../plots/spectrum_SSH_'+name_sat+'-'+name_mod+'_result-from-gonzag-netcdf.png')\n"
   ]
  },
  {
   "cell_type": "code",
   "execution_count": null,
   "id": "f786a455-a156-45c2-b6eb-9f6a19cfeb65",
   "metadata": {},
   "outputs": [],
   "source": []
  }
 ],
 "metadata": {
  "kernelspec": {
   "display_name": "Python 3 (ipykernel)",
   "language": "python",
   "name": "python3"
  },
  "language_info": {
   "codemirror_mode": {
    "name": "ipython",
    "version": 3
   },
   "file_extension": ".py",
   "mimetype": "text/x-python",
   "name": "python",
   "nbconvert_exporter": "python",
   "pygments_lexer": "ipython3",
   "version": "3.8.10"
  }
 },
 "nbformat": 4,
 "nbformat_minor": 5
}
