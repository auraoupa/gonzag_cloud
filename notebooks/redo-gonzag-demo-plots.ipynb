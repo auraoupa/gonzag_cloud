{
 "cells": [
  {
   "cell_type": "markdown",
   "metadata": {},
   "source": [
    "# GONZAG WestMed example"
   ]
  },
  {
   "cell_type": "markdown",
   "metadata": {},
   "source": [
    "This notebook demonstrates how Gonzag can be used to:\n",
    "- perform a space-time interpolation of SSH on a gridded OGCM domain onto a satellite track (provided in 2 NetCDF input files)\n",
    "- select and retain N valid SSH along track segments (both for input satellite SSH and interpolated model SSH)\n",
    "- preprocess these N SSH segments prior to applying a Fast Fourrier Transform (FFT)\n",
    "- apply the FFT\n",
    "- plot the the mean spectrum (of the N spectra)"
   ]
  },
  {
   "cell_type": "markdown",
   "metadata": {
    "collapsed": true
   },
   "source": [
    "## Loading & initializations"
   ]
  },
  {
   "cell_type": "code",
   "execution_count": 1,
   "metadata": {},
   "outputs": [],
   "source": [
    "import sys\n",
    "import os\n",
    "import glob\n",
    "from os import getenv\n",
    "import warnings\n",
    "warnings.filterwarnings(\"ignore\")\n",
    "\n",
    "import numpy as nmp\n",
    "import matplotlib.pyplot as plt\n",
    "import matplotlib.colors as colors\n",
    "%matplotlib inline\n",
    "\n",
    "GONZAG_DIR   = '/Users/auraoupa/Work/git/gonzag_cloud'\n",
    "sys.path.append(GONZAG_DIR)\n",
    "\n",
    "import gonzag as gz\n",
    "\n",
    "GONZAG_DATA_DIR = '/Users/auraoupa/Data/gonzag/gonzag_input'\n",
    "\n",
    "# Satellite input data:\n",
    "name_sat = 'Sentinel3A'\n",
    "file_sat = GONZAG_DATA_DIR+'/SENTINEL3A_20170130-20170303.nc'\n",
    "name_ssh_sat = 'sla_unfiltered'\n",
    "name_time_sat='time'\n",
    "period_sat=['2017-02-01','2017-02-28'] #period of satellite is bigger than model so we restrict to model period\n",
    "\n",
    "# Model input data:\n",
    "name_mod = 'eNATL60-WestMed'\n",
    "file_mod = GONZAG_DATA_DIR+'/sossheig_box_WestMed_eNATL60-BLBT02_20170201-20170228.nc'\n",
    "name_ssh_mod = 'sossheig'\n",
    "name_lat_mod = 'gphit'\n",
    "name_lon_mod = 'glamt'\n",
    "name_time_mod = 'time_counter'\n",
    "file_lsm_mod = file_mod; name_lsm_mod = '_FillValue' ; # we use _FillValue attribute of \"nams_ssh_mod\" in \"file_mod\"\n",
    "clsm = name_lsm_mod\n",
    "if name_lsm_mod=='_FillValue': clsm = name_lsm_mod+'@'+name_ssh_mod\n",
    "\n",
    "period_mod=['2017-02-01','2017-02-28']\n",
    "l_griddist = False ; # grid is not strongly distorded\n",
    "\n",
    "\n",
    "\n"
   ]
  },
  {
   "cell_type": "code",
   "execution_count": 32,
   "metadata": {},
   "outputs": [],
   "source": [
    "mydir = '../results/results_'+name_sat+'-'+name_mod+'/'\n",
    "file_list = glob.glob(mydir + '/result_??.nc')\n"
   ]
  },
  {
   "cell_type": "code",
   "execution_count": 33,
   "metadata": {},
   "outputs": [
    {
     "name": "stdout",
     "output_type": "stream",
     "text": [
      "['../results/results_Sentinel3A-eNATL60-WestMed/result_16.nc', '../results/results_Sentinel3A-eNATL60-WestMed/result_22.nc', '../results/results_Sentinel3A-eNATL60-WestMed/result_32.nc', '../results/results_Sentinel3A-eNATL60-WestMed/result_06.nc', '../results/results_Sentinel3A-eNATL60-WestMed/result_26.nc', '../results/results_Sentinel3A-eNATL60-WestMed/result_12.nc', '../results/results_Sentinel3A-eNATL60-WestMed/result_02.nc', '../results/results_Sentinel3A-eNATL60-WestMed/result_36.nc', '../results/results_Sentinel3A-eNATL60-WestMed/result_27.nc', '../results/results_Sentinel3A-eNATL60-WestMed/result_13.nc', '../results/results_Sentinel3A-eNATL60-WestMed/result_03.nc', '../results/results_Sentinel3A-eNATL60-WestMed/result_37.nc', '../results/results_Sentinel3A-eNATL60-WestMed/result_17.nc', '../results/results_Sentinel3A-eNATL60-WestMed/result_23.nc', '../results/results_Sentinel3A-eNATL60-WestMed/result_33.nc', '../results/results_Sentinel3A-eNATL60-WestMed/result_07.nc', '../results/results_Sentinel3A-eNATL60-WestMed/result_28.nc', '../results/results_Sentinel3A-eNATL60-WestMed/result_38.nc', '../results/results_Sentinel3A-eNATL60-WestMed/result_18.nc', '../results/results_Sentinel3A-eNATL60-WestMed/result_08.nc', '../results/results_Sentinel3A-eNATL60-WestMed/result_19.nc', '../results/results_Sentinel3A-eNATL60-WestMed/result_09.nc', '../results/results_Sentinel3A-eNATL60-WestMed/result_29.nc', '../results/results_Sentinel3A-eNATL60-WestMed/result_39.nc', '../results/results_Sentinel3A-eNATL60-WestMed/result_24.nc', '../results/results_Sentinel3A-eNATL60-WestMed/result_41.nc', '../results/results_Sentinel3A-eNATL60-WestMed/result_10.nc', '../results/results_Sentinel3A-eNATL60-WestMed/result_00.nc', '../results/results_Sentinel3A-eNATL60-WestMed/result_34.nc', '../results/results_Sentinel3A-eNATL60-WestMed/result_14.nc', '../results/results_Sentinel3A-eNATL60-WestMed/result_20.nc', '../results/results_Sentinel3A-eNATL60-WestMed/result_30.nc', '../results/results_Sentinel3A-eNATL60-WestMed/result_04.nc', '../results/results_Sentinel3A-eNATL60-WestMed/result_15.nc', '../results/results_Sentinel3A-eNATL60-WestMed/result_21.nc', '../results/results_Sentinel3A-eNATL60-WestMed/result_31.nc', '../results/results_Sentinel3A-eNATL60-WestMed/result_05.nc', '../results/results_Sentinel3A-eNATL60-WestMed/result_25.nc', '../results/results_Sentinel3A-eNATL60-WestMed/result_40.nc', '../results/results_Sentinel3A-eNATL60-WestMed/result_11.nc', '../results/results_Sentinel3A-eNATL60-WestMed/result_01.nc', '../results/results_Sentinel3A-eNATL60-WestMed/result_35.nc']\n"
     ]
    }
   ],
   "source": [
    "print(file_list)"
   ]
  },
  {
   "cell_type": "code",
   "execution_count": 34,
   "metadata": {},
   "outputs": [
    {
     "ename": "ValueError",
     "evalue": "did not find a match in any of xarray's currently installed IO backends ['netcdf4', 'scipy', 'zarr']. Consider explicitly selecting one of the installed engines via the ``engine`` parameter, or installing additional IO dependencies, see:\nhttp://xarray.pydata.org/en/stable/getting-started-guide/installing.html\nhttp://xarray.pydata.org/en/stable/user-guide/io.html",
     "output_type": "error",
     "traceback": [
      "\u001b[0;31m---------------------------------------------------------------------------\u001b[0m",
      "\u001b[0;31mValueError\u001b[0m                                Traceback (most recent call last)",
      "\u001b[0;32m/var/folders/27/9mkvv08568j5fm7r8779_bjw0000gn/T/ipykernel_32981/3792067422.py\u001b[0m in \u001b[0;36m<module>\u001b[0;34m\u001b[0m\n\u001b[1;32m      1\u001b[0m \u001b[0;32mimport\u001b[0m \u001b[0mxarray\u001b[0m \u001b[0;32mas\u001b[0m \u001b[0mxr\u001b[0m\u001b[0;34m\u001b[0m\u001b[0;34m\u001b[0m\u001b[0m\n\u001b[0;32m----> 2\u001b[0;31m \u001b[0mdsn\u001b[0m\u001b[0;34m=\u001b[0m\u001b[0mxr\u001b[0m\u001b[0;34m.\u001b[0m\u001b[0mopen_mfdataset\u001b[0m\u001b[0;34m(\u001b[0m\u001b[0mfile_list\u001b[0m\u001b[0;34m,\u001b[0m\u001b[0mconcat_dim\u001b[0m\u001b[0;34m=\u001b[0m\u001b[0;34m'time'\u001b[0m\u001b[0;34m,\u001b[0m\u001b[0mcombine\u001b[0m\u001b[0;34m=\u001b[0m\u001b[0;34m'nested'\u001b[0m\u001b[0;34m)\u001b[0m\u001b[0;34m\u001b[0m\u001b[0;34m\u001b[0m\u001b[0m\n\u001b[0m\u001b[1;32m      3\u001b[0m \u001b[0mdsn\u001b[0m\u001b[0;34m\u001b[0m\u001b[0;34m\u001b[0m\u001b[0m\n",
      "\u001b[0;32m~/miniconda3/envs/testz-gonzag/lib/python3.9/site-packages/xarray/backends/api.py\u001b[0m in \u001b[0;36mopen_mfdataset\u001b[0;34m(paths, chunks, concat_dim, compat, preprocess, engine, data_vars, coords, combine, parallel, join, attrs_file, combine_attrs, **kwargs)\u001b[0m\n\u001b[1;32m    911\u001b[0m         \u001b[0mgetattr_\u001b[0m \u001b[0;34m=\u001b[0m \u001b[0mgetattr\u001b[0m\u001b[0;34m\u001b[0m\u001b[0;34m\u001b[0m\u001b[0m\n\u001b[1;32m    912\u001b[0m \u001b[0;34m\u001b[0m\u001b[0m\n\u001b[0;32m--> 913\u001b[0;31m     \u001b[0mdatasets\u001b[0m \u001b[0;34m=\u001b[0m \u001b[0;34m[\u001b[0m\u001b[0mopen_\u001b[0m\u001b[0;34m(\u001b[0m\u001b[0mp\u001b[0m\u001b[0;34m,\u001b[0m \u001b[0;34m**\u001b[0m\u001b[0mopen_kwargs\u001b[0m\u001b[0;34m)\u001b[0m \u001b[0;32mfor\u001b[0m \u001b[0mp\u001b[0m \u001b[0;32min\u001b[0m \u001b[0mpaths\u001b[0m\u001b[0;34m]\u001b[0m\u001b[0;34m\u001b[0m\u001b[0;34m\u001b[0m\u001b[0m\n\u001b[0m\u001b[1;32m    914\u001b[0m     \u001b[0mclosers\u001b[0m \u001b[0;34m=\u001b[0m \u001b[0;34m[\u001b[0m\u001b[0mgetattr_\u001b[0m\u001b[0;34m(\u001b[0m\u001b[0mds\u001b[0m\u001b[0;34m,\u001b[0m \u001b[0;34m\"_close\"\u001b[0m\u001b[0;34m)\u001b[0m \u001b[0;32mfor\u001b[0m \u001b[0mds\u001b[0m \u001b[0;32min\u001b[0m \u001b[0mdatasets\u001b[0m\u001b[0;34m]\u001b[0m\u001b[0;34m\u001b[0m\u001b[0;34m\u001b[0m\u001b[0m\n\u001b[1;32m    915\u001b[0m     \u001b[0;32mif\u001b[0m \u001b[0mpreprocess\u001b[0m \u001b[0;32mis\u001b[0m \u001b[0;32mnot\u001b[0m \u001b[0;32mNone\u001b[0m\u001b[0;34m:\u001b[0m\u001b[0;34m\u001b[0m\u001b[0;34m\u001b[0m\u001b[0m\n",
      "\u001b[0;32m~/miniconda3/envs/testz-gonzag/lib/python3.9/site-packages/xarray/backends/api.py\u001b[0m in \u001b[0;36m<listcomp>\u001b[0;34m(.0)\u001b[0m\n\u001b[1;32m    911\u001b[0m         \u001b[0mgetattr_\u001b[0m \u001b[0;34m=\u001b[0m \u001b[0mgetattr\u001b[0m\u001b[0;34m\u001b[0m\u001b[0;34m\u001b[0m\u001b[0m\n\u001b[1;32m    912\u001b[0m \u001b[0;34m\u001b[0m\u001b[0m\n\u001b[0;32m--> 913\u001b[0;31m     \u001b[0mdatasets\u001b[0m \u001b[0;34m=\u001b[0m \u001b[0;34m[\u001b[0m\u001b[0mopen_\u001b[0m\u001b[0;34m(\u001b[0m\u001b[0mp\u001b[0m\u001b[0;34m,\u001b[0m \u001b[0;34m**\u001b[0m\u001b[0mopen_kwargs\u001b[0m\u001b[0;34m)\u001b[0m \u001b[0;32mfor\u001b[0m \u001b[0mp\u001b[0m \u001b[0;32min\u001b[0m \u001b[0mpaths\u001b[0m\u001b[0;34m]\u001b[0m\u001b[0;34m\u001b[0m\u001b[0;34m\u001b[0m\u001b[0m\n\u001b[0m\u001b[1;32m    914\u001b[0m     \u001b[0mclosers\u001b[0m \u001b[0;34m=\u001b[0m \u001b[0;34m[\u001b[0m\u001b[0mgetattr_\u001b[0m\u001b[0;34m(\u001b[0m\u001b[0mds\u001b[0m\u001b[0;34m,\u001b[0m \u001b[0;34m\"_close\"\u001b[0m\u001b[0;34m)\u001b[0m \u001b[0;32mfor\u001b[0m \u001b[0mds\u001b[0m \u001b[0;32min\u001b[0m \u001b[0mdatasets\u001b[0m\u001b[0;34m]\u001b[0m\u001b[0;34m\u001b[0m\u001b[0;34m\u001b[0m\u001b[0m\n\u001b[1;32m    915\u001b[0m     \u001b[0;32mif\u001b[0m \u001b[0mpreprocess\u001b[0m \u001b[0;32mis\u001b[0m \u001b[0;32mnot\u001b[0m \u001b[0;32mNone\u001b[0m\u001b[0;34m:\u001b[0m\u001b[0;34m\u001b[0m\u001b[0;34m\u001b[0m\u001b[0m\n",
      "\u001b[0;32m~/miniconda3/envs/testz-gonzag/lib/python3.9/site-packages/xarray/backends/api.py\u001b[0m in \u001b[0;36mopen_dataset\u001b[0;34m(filename_or_obj, engine, chunks, cache, decode_cf, mask_and_scale, decode_times, decode_timedelta, use_cftime, concat_characters, decode_coords, drop_variables, backend_kwargs, *args, **kwargs)\u001b[0m\n\u001b[1;32m    479\u001b[0m \u001b[0;34m\u001b[0m\u001b[0m\n\u001b[1;32m    480\u001b[0m     \u001b[0;32mif\u001b[0m \u001b[0mengine\u001b[0m \u001b[0;32mis\u001b[0m \u001b[0;32mNone\u001b[0m\u001b[0;34m:\u001b[0m\u001b[0;34m\u001b[0m\u001b[0;34m\u001b[0m\u001b[0m\n\u001b[0;32m--> 481\u001b[0;31m         \u001b[0mengine\u001b[0m \u001b[0;34m=\u001b[0m \u001b[0mplugins\u001b[0m\u001b[0;34m.\u001b[0m\u001b[0mguess_engine\u001b[0m\u001b[0;34m(\u001b[0m\u001b[0mfilename_or_obj\u001b[0m\u001b[0;34m)\u001b[0m\u001b[0;34m\u001b[0m\u001b[0;34m\u001b[0m\u001b[0m\n\u001b[0m\u001b[1;32m    482\u001b[0m \u001b[0;34m\u001b[0m\u001b[0m\n\u001b[1;32m    483\u001b[0m     \u001b[0mbackend\u001b[0m \u001b[0;34m=\u001b[0m \u001b[0mplugins\u001b[0m\u001b[0;34m.\u001b[0m\u001b[0mget_backend\u001b[0m\u001b[0;34m(\u001b[0m\u001b[0mengine\u001b[0m\u001b[0;34m)\u001b[0m\u001b[0;34m\u001b[0m\u001b[0;34m\u001b[0m\u001b[0m\n",
      "\u001b[0;32m~/miniconda3/envs/testz-gonzag/lib/python3.9/site-packages/xarray/backends/plugins.py\u001b[0m in \u001b[0;36mguess_engine\u001b[0;34m(store_spec)\u001b[0m\n\u001b[1;32m    146\u001b[0m         )\n\u001b[1;32m    147\u001b[0m \u001b[0;34m\u001b[0m\u001b[0m\n\u001b[0;32m--> 148\u001b[0;31m     \u001b[0;32mraise\u001b[0m \u001b[0mValueError\u001b[0m\u001b[0;34m(\u001b[0m\u001b[0merror_msg\u001b[0m\u001b[0;34m)\u001b[0m\u001b[0;34m\u001b[0m\u001b[0;34m\u001b[0m\u001b[0m\n\u001b[0m\u001b[1;32m    149\u001b[0m \u001b[0;34m\u001b[0m\u001b[0m\n\u001b[1;32m    150\u001b[0m \u001b[0;34m\u001b[0m\u001b[0m\n",
      "\u001b[0;31mValueError\u001b[0m: did not find a match in any of xarray's currently installed IO backends ['netcdf4', 'scipy', 'zarr']. Consider explicitly selecting one of the installed engines via the ``engine`` parameter, or installing additional IO dependencies, see:\nhttp://xarray.pydata.org/en/stable/getting-started-guide/installing.html\nhttp://xarray.pydata.org/en/stable/user-guide/io.html"
     ]
    }
   ],
   "source": [
    "import xarray as xr\n",
    "dsn=xr.open_mfdataset(file_list,concat_dim='time',combine='nested')\n",
    "dsn"
   ]
  },
  {
   "cell_type": "code",
   "execution_count": null,
   "metadata": {},
   "outputs": [],
   "source": [
    "dsn.sossheig_np.plot()"
   ]
  },
  {
   "cell_type": "markdown",
   "metadata": {},
   "source": [
    "### 2] Plot time series of _interpolated model_ SLA and satellite SLA\n",
    "\n",
    "Even if probably ugly it gives the pictures of what we are dealing with..."
   ]
  },
  {
   "cell_type": "code",
   "execution_count": 19,
   "metadata": {},
   "outputs": [
    {
     "data": {
      "image/png": "[encoded data removed]",
      "text/plain": [
       "<Figure size 864x504 with 1 Axes>"
      ]
     },
     "metadata": {},
     "output_type": "display_data"
    }
   ],
   "source": [
    "vmodel=dsn.sossheig_np\n",
    "vsat=dsn.sla_unfiltered\n",
    "\n",
    "vmodel_mask=nmp.ma.masked_where(vmodel==-9.99900000e+03, vmodel)\n",
    "vsat_mask=nmp.ma.masked_where(vmodel==-9.99900000e+03, vsat)\n",
    "\n",
    "import matplotlib.dates as mdates\n",
    "                                                                                                        \n",
    "clr_sat = '#AD0000'\n",
    "clr_mod = '#008ab8'\n",
    "\n",
    "VT = dsn.time ; # time from UNIX Epoch to Matlplotlib friendly...\n",
    "\n",
    "fig = plt.figure(num = 1, figsize=(12,7), facecolor='w', edgecolor='k')\n",
    "ax = plt.axes([0.07, 0.24, 0.9, 0.75])\n",
    "ax.set_xticks(VT[::200])\n",
    "#ax.xaxis.set_major_formatter(mdates.DateFormatter('%Y-%m-%d %H:%M:%S'))\n",
    "plt.xticks(rotation='60')\n",
    "plt.plot(VT, VT*0.0          , '-', color='k',                   label=None,  zorder=5)\n",
    "plt.plot(VT, vsat_mask-nmp.mean(vsat_mask), '.', color=clr_sat, markersize=5, alpha=0.5, label=name_sat, zorder=10)\n",
    "plt.plot(VT, vmodel_mask-nmp.mean(vmodel_mask), '.', color=clr_mod, markersize=5, alpha=0.5, label=name_mod, zorder=15)\n",
    "#ax.set_ylim(-r_max_amp_ssh,r_max_amp_ssh) ;\n",
    "#ax.set_xlim(VT[0],VT[-1])\n",
    "plt.ylabel('SSH [m]')\n",
    "ax.grid(color='k', linestyle='-', linewidth=0.3)\n",
    "lgnd = plt.legend(bbox_to_anchor=(0.55, 1.), ncol=1, shadow=True, fancybox=True)\n"
   ]
  },
  {
   "cell_type": "markdown",
   "metadata": {},
   "source": [
    "## Processing solution for spectral analysis\n",
    "### 1] Select continuous segments, prepare them for FFT, and apply FFT on each of them"
   ]
  },
  {
   "cell_type": "code",
   "execution_count": 20,
   "metadata": {},
   "outputs": [
    {
     "ename": "NameError",
     "evalue": "name 'gzg' is not defined",
     "output_type": "error",
     "traceback": [
      "\u001b[0;31m---------------------------------------------------------------------------\u001b[0m",
      "\u001b[0;31mNameError\u001b[0m                                 Traceback (most recent call last)",
      "\u001b[0;32m/var/folders/27/9mkvv08568j5fm7r8779_bjw0000gn/T/ipykernel_8449/2821644784.py\u001b[0m in \u001b[0;36m<module>\u001b[0;34m\u001b[0m\n\u001b[1;32m      1\u001b[0m \u001b[0;31m# Extract the Ns continuous data segments:\u001b[0m\u001b[0;34m\u001b[0m\u001b[0;34m\u001b[0m\u001b[0m\n\u001b[0;32m----> 2\u001b[0;31m ISeg_beg, ISeg_end = gzg.FindUnbrokenSegments( Solution.time, Solution.distance, Solution.ssh_mod, \\\n\u001b[0m\u001b[1;32m      3\u001b[0m                                              rcut_time=1.2, rcut_dist=7.8 )\n\u001b[1;32m      4\u001b[0m \u001b[0;31m# => any Δt > 1.2 s between 2 consecutive points is considered as a gap and hence a cut!\u001b[0m\u001b[0;34m\u001b[0m\u001b[0;34m\u001b[0m\u001b[0m\n\u001b[1;32m      5\u001b[0m \u001b[0;31m# => any Δd > 7.8 km    \"               \"             \"                 \"\u001b[0m\u001b[0;34m\u001b[0m\u001b[0;34m\u001b[0m\u001b[0m\n",
      "\u001b[0;31mNameError\u001b[0m: name 'gzg' is not defined"
     ]
    }
   ],
   "source": [
    "# Extract the Ns continuous data segments:                                                                                                              \n",
    "ISeg_beg, ISeg_end = gzg.FindUnbrokenSegments( Solution.time, Solution.distance, Solution.ssh_mod, \\\n",
    "                                             rcut_time=1.2, rcut_dist=7.8 )\n",
    "# => any Δt > 1.2 s between 2 consecutive points is considered as a gap and hence a cut!\n",
    "# => any Δd > 7.8 km    \"               \"             \"                 \"\n",
    "\n",
    "# Select and retain only the \"NbSeg\" proper segments:                                                                                                               \n",
    "NbSeg, Nsl, IDEDSeg = gzg.SegmentSelection(ISeg_beg, ISeg_end, np_valid_seg=70)\n",
    "# Debug validity check:                                                                                                                                       \n",
    "#for js in range(NbSeg):                                                                                                                                \n",
    "#    print(' * Seg # ',js+1,' => it1, it2 =', IDEDSeg[js,:], ' ==> len = ', IDEDSeg[js,1]-IDEDSeg[js,0]+1)                                              \n",
    "#print(' Nsl = ',Nsl)\n",
    "\n",
    "# Process data on segment so ready for FFT:                                                                                                 \n",
    "XPs, XPm, rdist_sample = gzg.Process4FFT( IDEDSeg, Solution.distance, Solution.ssh_mod, Solution.ssh_sat )\n",
    "\n",
    "# Apply FFT !                                                                                                                               \n",
    "Kwn, PwSpc_s, PwSpc_m = gzg.ApplyFFT( IDEDSeg, XPs, XPm, rdist_sample )\n"
   ]
  },
  {
   "cell_type": "markdown",
   "metadata": {},
   "source": [
    "### 2] Plotting the mean spectrum"
   ]
  },
  {
   "cell_type": "code",
   "execution_count": null,
   "metadata": {},
   "outputs": [],
   "source": [
    "CLIMPORN_DIR = '/Users/auraoupa/Work/git/climporn/python' ; # get it there: https://github.com/brodeau/climporn\n",
    "sys.path.append(CLIMPORN_DIR)\n",
    "import climporn as cp\n",
    "\n",
    "# Building our spectrum as the mean of the NbSeg spectra:\n",
    "vps_mod = nmp.mean(PwSpc_m[:,:],axis=0)\n",
    "vps_sat = nmp.mean(PwSpc_s[:,:],axis=0)\n",
    "\n",
    "# Blabla for the plot:\n",
    "cinfrm = str(NbSeg)+' segments\\n'+str(Nsl)+' points/segment\\n'+r'$\\Delta$d sat.: '+str(round(rdist_sample,1))+' km'\n",
    "\n",
    "ii = cp.plot(\"pow_spectrum_ssh\")(Kwn, vps_mod, clab1=name_mod+' (\"'+name_ssh_mod+'\")', clr1=clr_mod, lw1=5, \\\n",
    "                                 cinfo=cinfrm, logo_on=False, \\\n",
    "                                 L_min=13., L_max=500., P_min_y=-6, P_max_y=1, \\\n",
    "                                 l_show_k4=False, l_show_k5=True, l_show_k11o3=False, l_show_k2=True, \\\n",
    "                                 vk2=Kwn, vps2=vps_sat, clab2=name_sat+' (\"'+name_ssh_sat+'\")', clr2=clr_sat, lw2=4)\n"
   ]
  },
  {
   "cell_type": "code",
   "execution_count": null,
   "metadata": {},
   "outputs": [],
   "source": []
  }
 ],
 "metadata": {
  "kernelspec": {
   "display_name": "testz-gonzag",
   "language": "python",
   "name": "testz-gonzag"
  },
  "language_info": {
   "codemirror_mode": {
    "name": "ipython",
    "version": 3
   },
   "file_extension": ".py",
   "mimetype": "text/x-python",
   "name": "python",
   "nbconvert_exporter": "python",
   "pygments_lexer": "ipython3",
   "version": "3.9.7"
  }
 },
 "nbformat": 4,
 "nbformat_minor": 2
}
