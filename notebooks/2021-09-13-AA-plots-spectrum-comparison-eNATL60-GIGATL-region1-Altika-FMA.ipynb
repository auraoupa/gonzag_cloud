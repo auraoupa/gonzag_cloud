{
 "cells": [
  {
   "cell_type": "markdown",
   "id": "disabled-baker",
   "metadata": {},
   "source": [
    "# Comparison of spectrum between eNATL60 outputs and Altika Satellite for Region 1 and ASO months\n",
    "\n",
    "Requisites :\n",
    " - notebook process-spectrum-comparison-eNATL60-region1-Altkia-ASO has successfully run and produced all the necessary result_*.nc in results_Altika-eNATL60-Region1-ASO\n",
    " - gonzag_cloud\n",
    " - climporn\n",
    " \n"
   ]
  },
  {
   "cell_type": "code",
   "execution_count": 1,
   "id": "lesser-interaction",
   "metadata": {},
   "outputs": [],
   "source": [
    "import sys,os\n",
    "from os import getenv\n",
    "import warnings\n",
    "warnings.filterwarnings(\"ignore\")"
   ]
  },
  {
   "cell_type": "code",
   "execution_count": 2,
   "id": "corresponding-consumer",
   "metadata": {},
   "outputs": [],
   "source": [
    "GONZAG_DIR = '/home/jovyan/gonzag_cloud'\n",
    "sys.path.append(GONZAG_DIR)\n",
    "import gonzag as gz\n"
   ]
  },
  {
   "cell_type": "code",
   "execution_count": 3,
   "id": "impossible-scholar",
   "metadata": {},
   "outputs": [],
   "source": [
    "import xarray as xr\n",
    "import sys\n",
    "import glob\n",
    "import numpy as nmp\n",
    "import pandas as pd\n",
    "\n",
    "import matplotlib\n",
    "import matplotlib.pyplot as plt\n",
    "import matplotlib.dates as mdates\n",
    "\n",
    "import cartopy.crs as ccrs\n",
    "import cartopy.feature as cfeature\n",
    "import cartopy.mpl.ticker as cticker\n",
    "\n",
    "%matplotlib inline\n"
   ]
  },
  {
   "cell_type": "code",
   "execution_count": 4,
   "id": "biblical-patent",
   "metadata": {},
   "outputs": [],
   "source": [
    "CLIMPORN_DIR = '/home/jovyan/climporn/python' ; # get it there: https://github.com/brodeau/climporn\n",
    "sys.path.append(CLIMPORN_DIR)\n",
    "import climporn as cp\n"
   ]
  },
  {
   "cell_type": "markdown",
   "id": "14452f7f-738e-4646-ab38-7206ddeba49b",
   "metadata": {},
   "source": [
    "### Params"
   ]
  },
  {
   "cell_type": "code",
   "execution_count": 5,
   "id": "18857604-6164-4b93-96bf-4e10f424537f",
   "metadata": {},
   "outputs": [],
   "source": [
    "region = '1'\n",
    "season = 'fma'\n"
   ]
  },
  {
   "cell_type": "markdown",
   "id": "254f15e9-8111-41da-b14e-7530203ec139",
   "metadata": {},
   "source": [
    "For the model 1"
   ]
  },
  {
   "cell_type": "code",
   "execution_count": 6,
   "id": "e84b730a-01b3-44f8-b1f5-ca242f5001fe",
   "metadata": {},
   "outputs": [],
   "source": [
    "model1 = 'eNATL60'\n",
    "name_mod1 = model1+'-Region'+region+'-'+season\n",
    "name_ssh_mod1 = 'sossheig_bl'\n"
   ]
  },
  {
   "cell_type": "markdown",
   "id": "f0ae7caa-43a2-4298-8ede-e78a4c5ab2e3",
   "metadata": {},
   "source": [
    "For the model 2"
   ]
  },
  {
   "cell_type": "code",
   "execution_count": 7,
   "id": "8c8651ec-4bd6-4ae2-86e2-6e672520b31b",
   "metadata": {},
   "outputs": [],
   "source": [
    "model2 = 'GIGATL'\n",
    "name_mod2 = model2+'-Region'+region+'-'+season\n",
    "name_ssh_mod2 = 'zeta_bl'\n"
   ]
  },
  {
   "cell_type": "code",
   "execution_count": 8,
   "id": "6832432f-e1c3-410e-baee-aaafd49e7591",
   "metadata": {},
   "outputs": [],
   "source": [
    "name_mods = model1+'-'+model2+'-Region'+region+'-'+season\n"
   ]
  },
  {
   "cell_type": "markdown",
   "id": "c774fc99-f592-4365-a8ad-7b480aaf6c76",
   "metadata": {},
   "source": [
    "For altimetry data"
   ]
  },
  {
   "cell_type": "code",
   "execution_count": 9,
   "id": "14d003be-3b8c-4327-977c-7aaaa3a38c3a",
   "metadata": {},
   "outputs": [],
   "source": [
    "name_sat= 'Altika'\n",
    "name_ssh_sat='sla_unfiltered'\n"
   ]
  },
  {
   "cell_type": "markdown",
   "id": "outstanding-turkey",
   "metadata": {},
   "source": [
    "### Data"
   ]
  },
  {
   "cell_type": "code",
   "execution_count": 10,
   "id": "joined-custom",
   "metadata": {},
   "outputs": [],
   "source": [
    "fresults1=sorted(glob.glob('../results/results_'+name_sat+'-'+name_mod1+'/result_??.nc'))\n",
    "dsn1=xr.open_mfdataset(fresults1,concat_dim='time',combine='nested')"
   ]
  },
  {
   "cell_type": "code",
   "execution_count": 11,
   "id": "e3708e17-47f8-4590-82b2-81e07551f427",
   "metadata": {},
   "outputs": [],
   "source": [
    "fresults2=sorted(glob.glob('../results/results_'+name_sat+'-'+name_mod2+'/result_??.nc'))\n",
    "dsn2=xr.open_mfdataset(fresults2,concat_dim='time',combine='nested')"
   ]
  },
  {
   "cell_type": "code",
   "execution_count": 12,
   "id": "variable-stereo",
   "metadata": {},
   "outputs": [],
   "source": [
    "#clean up some remaining Nans\n",
    "\n",
    "ds1=dsn1.where(nmp.isnan(dsn1[name_ssh_sat])==0, drop=True)\n",
    "ds2=dsn2.where(nmp.isnan(dsn2[name_ssh_sat])==0, drop=True)"
   ]
  },
  {
   "cell_type": "markdown",
   "id": "demonstrated-irish",
   "metadata": {},
   "source": [
    "### Spectrum"
   ]
  },
  {
   "cell_type": "code",
   "execution_count": 13,
   "id": "tested-reading",
   "metadata": {},
   "outputs": [
    {
     "name": "stdout",
     "output_type": "stream",
     "text": [
      " *** [SegmentSelection()]: Will use 23 segments with a fixed length of 100 points!\n",
      "     ==> 23 selected segments out of the 240 available (requested minimum length is 70 points)\n",
      "\n",
      " *** [SegmentSelection()]: Will use 105 segments with a fixed length of 80 points!\n",
      "     ==> 105 selected segments out of the 534 available (requested minimum length is 70 points)\n",
      "\n",
      " *** [Process4FFT()]: applying linear detrending...\n",
      " *** [Process4FFT()]: centering about 0...\n",
      " *** [Process4FFT()]: applying \"Tukey\" tappering...\n",
      "\n",
      " *** [Process4FFT()]: applying linear detrending...\n",
      " *** [Process4FFT()]: centering about 0...\n",
      " *** [Process4FFT()]: applying \"Tukey\" tappering...\n",
      "\n",
      " *** [ApplyFFT()]: Applying FFT with a dx_sample of  6.603  km\n",
      "\n",
      " *** [ApplyFFT()]: Applying FFT with a dx_sample of  6.603  km\n",
      "\n",
      "CPU times: user 14min 21s, sys: 58.7 s, total: 15min 19s\n",
      "Wall time: 14min 10s\n"
     ]
    }
   ],
   "source": [
    "%%time\n",
    "\n",
    "ISeg_beg1, ISeg_end1 = gz.FindUnbrokenSegments( ds1.time, ds1.distance, ds1[name_ssh_mod1],\\\n",
    "                                             rcut_time=1.2e+09, rcut_dist=7.8 )\n",
    "ISeg_beg2, ISeg_end2 = gz.FindUnbrokenSegments( ds2.time, ds2.distance, ds2[name_ssh_mod2],\\\n",
    "                                             rcut_time=1.2e+09, rcut_dist=7.8 )\n",
    "NbSeg1, Nsl1, IDEDSeg1 = gz.SegmentSelection(ISeg_beg1, ISeg_end1, np_valid_seg=70)\n",
    "NbSeg2, Nsl2, IDEDSeg2 = gz.SegmentSelection(ISeg_beg2, ISeg_end2, np_valid_seg=70)\n",
    "XPs1, XPm1, rdist_sample1 = gz.Process4FFT( IDEDSeg1, ds1.distance, ds1[name_ssh_mod1], ds1[name_ssh_sat] )\n",
    "XPs2, XPm2, rdist_sample2 = gz.Process4FFT( IDEDSeg2, ds2.distance, ds2[name_ssh_mod2], ds2[name_ssh_sat] )\n",
    "Kwn1, PwSpc_s1, PwSpc_m1 = gz.ApplyFFT( IDEDSeg1, XPs1, XPm1, rdist_sample1 )\n",
    "Kwn2, PwSpc_s2, PwSpc_m2 = gz.ApplyFFT( IDEDSeg2, XPs2, XPm2, rdist_sample2 )\n",
    "\n",
    "# Building our spectrum as the mean of the NbSeg spectra:\n",
    "vps_mod1 = nmp.mean(PwSpc_m1[:,:],axis=0)\n",
    "vps_mod2 = nmp.mean(PwSpc_m2[:,:],axis=0)\n",
    "vps_sat = nmp.mean(PwSpc_s1[:,:],axis=0)\n",
    "\n"
   ]
  },
  {
   "cell_type": "code",
   "execution_count": 15,
   "id": "first-latitude",
   "metadata": {},
   "outputs": [
    {
     "name": "stderr",
     "output_type": "stream",
     "text": [
      "findfont: Font family ['Trebuchet MS'] not found. Falling back to DejaVu Sans.\n"
     ]
    }
   ],
   "source": [
    "# Blabla for the plot:\n",
    "clr_sat = '#AD0000'\n",
    "clr_mod1 = '#008ab8'\n",
    "clr_mod2 = '#329E46'\n",
    "\n",
    "cinfrm = str(NbSeg1)+' segments for '+model1+'\\n'+str(NbSeg2)+' segments for '+model2+'\\n'+str(Nsl1)+' points/segment for '+model1+'\\n'+str(Nsl1)+' points/segment for '+model1+r'$\\Delta$d sat.: '+str(round(rdist_sample1,1))+' km'\n",
    "\n",
    "ii = cp.plot(\"pow_spectrum_ssh\")(Kwn1, vps_mod1, clab1=name_mod1+' (\"'+name_ssh_mod1+'\")', clr1=clr_mod1, lw1=5, \\\n",
    "                                 cinfo=cinfrm, logo_on=False, \\\n",
    "                                 L_min=13., L_max=500., P_min_y=-6, P_max_y=1, \\\n",
    "                                 l_show_k4=False, l_show_k5=True, l_show_k11o3=False, l_show_k2=True, \\\n",
    "                                 vk2=Kwn1, vps2=vps_sat, clab2=name_sat+' (\"'+name_ssh_sat+'\")', clr2=clr_sat, lw2=4, \\\n",
    "                                 vk3=Kwn2, vps3=vps_mod2, clab3=name_mod2+' (\"'+name_ssh_mod2+'\")', clr3=clr_mod2, lw3=4)\n",
    "\n",
    "plt.savefig('../plots/spectrum_SSH_'+name_sat+'-'+name_mods+'.png')\n"
   ]
  },
  {
   "cell_type": "code",
   "execution_count": null,
   "id": "f786a455-a156-45c2-b6eb-9f6a19cfeb65",
   "metadata": {},
   "outputs": [],
   "source": []
  }
 ],
 "metadata": {
  "kernelspec": {
   "display_name": "Python 3 (ipykernel)",
   "language": "python",
   "name": "python3"
  },
  "language_info": {
   "codemirror_mode": {
    "name": "ipython",
    "version": 3
   },
   "file_extension": ".py",
   "mimetype": "text/x-python",
   "name": "python",
   "nbconvert_exporter": "python",
   "pygments_lexer": "ipython3",
   "version": "3.8.10"
  }
 },
 "nbformat": 4,
 "nbformat_minor": 5
}
