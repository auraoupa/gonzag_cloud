{
 "cells": [
  {
   "cell_type": "markdown",
   "id": "disabled-baker",
   "metadata": {},
   "source": [
    "# Comparison of spectrum between eNATL60 outputs and Altika Satellite for Region 1 and ASO months\n",
    "\n",
    "Requisites :\n",
    " - notebook process-spectrum-comparison-eNATL60-region1-Altkia-ASO has successfully run and produced all the necessary result_*.nc in results_Altika-eNATL60-Region1-ASO\n",
    " - gonzag_cloud\n",
    " - climporn\n",
    " \n"
   ]
  },
  {
   "cell_type": "code",
   "execution_count": 1,
   "id": "lesser-interaction",
   "metadata": {},
   "outputs": [],
   "source": [
    "import sys,os\n",
    "from os import getenv\n",
    "import warnings\n",
    "warnings.filterwarnings(\"ignore\")"
   ]
  },
  {
   "cell_type": "code",
   "execution_count": 2,
   "id": "corresponding-consumer",
   "metadata": {},
   "outputs": [],
   "source": [
    "GONZAG_DIR = '/home/jovyan/gonzag_cloud' ; \n",
    "sys.path.append(GONZAG_DIR)\n",
    "import gonzag as gz\n"
   ]
  },
  {
   "cell_type": "code",
   "execution_count": 3,
   "id": "impossible-scholar",
   "metadata": {},
   "outputs": [],
   "source": [
    "import xarray as xr\n",
    "import sys\n",
    "import glob\n",
    "import numpy as nmp\n",
    "import pandas as pd\n",
    "\n",
    "import matplotlib\n",
    "import matplotlib.pyplot as plt\n",
    "import matplotlib.dates as mdates\n",
    "\n",
    "import cartopy.crs as ccrs\n",
    "import cartopy.feature as cfeature\n",
    "import cartopy.mpl.ticker as cticker\n",
    "\n",
    "%matplotlib inline\n"
   ]
  },
  {
   "cell_type": "code",
   "execution_count": 4,
   "id": "biblical-patent",
   "metadata": {},
   "outputs": [],
   "source": [
    "CLIMPORN_DIR = '/home/jovyan/climporn/python' ; # get it there: https://github.com/brodeau/climporn\n",
    "sys.path.append(CLIMPORN_DIR)\n",
    "import climporn as cp\n"
   ]
  },
  {
   "cell_type": "markdown",
   "id": "14452f7f-738e-4646-ab38-7206ddeba49b",
   "metadata": {},
   "source": [
    "### Params"
   ]
  },
  {
   "cell_type": "markdown",
   "id": "254f15e9-8111-41da-b14e-7530203ec139",
   "metadata": {},
   "source": [
    "For the model"
   ]
  },
  {
   "cell_type": "code",
   "execution_count": 5,
   "id": "e84b730a-01b3-44f8-b1f5-ca242f5001fe",
   "metadata": {},
   "outputs": [],
   "source": [
    "model = 'eNATL60'\n",
    "region = '1'\n",
    "season = 'fma'\n",
    "name_mod = model+'-Region'+region+'-'+season\n",
    "name_ssh_mod = 'sossheig_bl'\n"
   ]
  },
  {
   "cell_type": "markdown",
   "id": "c774fc99-f592-4365-a8ad-7b480aaf6c76",
   "metadata": {},
   "source": [
    "For altimetry data"
   ]
  },
  {
   "cell_type": "code",
   "execution_count": 6,
   "id": "14d003be-3b8c-4327-977c-7aaaa3a38c3a",
   "metadata": {},
   "outputs": [],
   "source": [
    "name_sat= 'Altika'\n",
    "name_ssh_sat='sla_unfiltered'\n"
   ]
  },
  {
   "cell_type": "markdown",
   "id": "outstanding-turkey",
   "metadata": {},
   "source": [
    "### Data"
   ]
  },
  {
   "cell_type": "code",
   "execution_count": 7,
   "id": "joined-custom",
   "metadata": {},
   "outputs": [],
   "source": [
    "fresults=sorted(glob.glob('../results/results_'+name_sat+'-'+name_mod+'/result_??.nc'))\n",
    "dsn=xr.open_mfdataset(fresults,concat_dim='time',combine='nested')"
   ]
  },
  {
   "cell_type": "code",
   "execution_count": 8,
   "id": "variable-stereo",
   "metadata": {},
   "outputs": [],
   "source": [
    "#clean up some remaining Nans\n",
    "\n",
    "ds=dsn.where(nmp.isnan(dsn[name_ssh_sat])==0, drop=True)"
   ]
  },
  {
   "cell_type": "code",
   "execution_count": 9,
   "id": "aaeb8991-66a6-4562-a132-4d91c26c5201",
   "metadata": {},
   "outputs": [
    {
     "name": "stdout",
     "output_type": "stream",
     "text": [
      "[-0.06541651  0.25607326  0.25922199 ... -0.21118741 -0.30652857\n",
      " -0.30651113]\n"
     ]
    }
   ],
   "source": [
    "print(ds[name_ssh_mod].values)"
   ]
  },
  {
   "cell_type": "markdown",
   "id": "graduate-stomach",
   "metadata": {},
   "source": [
    "### Maps of the tracks"
   ]
  },
  {
   "cell_type": "code",
   "execution_count": 10,
   "id": "worthy-socket",
   "metadata": {},
   "outputs": [],
   "source": [
    "fig = plt.figure(num = 1, figsize=(15,9), facecolor='w', edgecolor='k')\n",
    "ax = plt.subplot(111,projection=ccrs.PlateCarree())\n",
    "ax.coastlines(resolution=\"10m\")\n",
    "\n",
    "lon_formatter = cticker.LongitudeFormatter()\n",
    "lat_formatter = cticker.LatitudeFormatter()\n",
    "ax.xaxis.set_major_formatter(lon_formatter)\n",
    "ax.yaxis.set_major_formatter(lat_formatter)\n",
    "gl = ax.gridlines(draw_labels=True, linestyle=':', color='black',\n",
    "                          alpha=0.5)\n",
    "\n",
    "idx = ds.longitude\n",
    "idy = ds.latitude\n",
    "t = ds.time_counter\n",
    "cf = ax.scatter(idx, idy, c=t, cmap = 'viridis', marker='.', s=3 )\n",
    "    \n",
    "cbar = plt.colorbar(cf,shrink=0.8)\n",
    "cbar.set_ticks([])\n",
    "\n",
    "plt.savefig('../plots/tracks_'+name_sat+'-'+name_mod+'.png')\n",
    "del fig,ax"
   ]
  },
  {
   "cell_type": "markdown",
   "id": "binary-sunrise",
   "metadata": {},
   "source": [
    "### Time series of SSH "
   ]
  },
  {
   "cell_type": "code",
   "execution_count": 11,
   "id": "sweet-fellow",
   "metadata": {},
   "outputs": [],
   "source": [
    "clr_sat = '#AD0000'\n",
    "clr_mod = '#008ab8'\n",
    "\n",
    "VT = ds.time_counter ; \n",
    "\n",
    "fig = plt.figure(num = 1, figsize=(15,30), facecolor='w', edgecolor='k')\n",
    "ax = plt.subplot(111)\n",
    "plt.hlines(0,nmp.min(ds.time_counter.values),nmp.max(ds.time_counter.values), colors='k',label=None,  zorder=5)\n",
    "plt.plot(VT, ds[name_ssh_sat]-nmp.mean(ds[name_ssh_sat]), '.', color=clr_sat, markersize=5, \n",
    "         alpha=0.5, label=name_sat, zorder=10)\n",
    "plt.plot(VT, ds[name_ssh_mod]-nmp.mean(ds[name_ssh_mod]), '.', color=clr_mod, markersize=5, \n",
    "         alpha=0.5, label=name_mod, zorder=15)\n",
    "ax.xaxis.set_major_formatter(mdates.DateFormatter('%Y-%m-%d'))\n",
    "plt.xticks(rotation='60')\n",
    "plt.ylabel('SSH [m]')\n",
    "ax.grid(color='k', linestyle='-', linewidth=0.3)\n",
    "lgnd = plt.legend(bbox_to_anchor=(0.55, 1.), ncol=1, shadow=True, fancybox=True)\n",
    "\n",
    "plt.savefig('../plots/SSH_'+name_sat+'-'+name_mod+'.png')\n",
    "del fig,ax"
   ]
  },
  {
   "cell_type": "code",
   "execution_count": null,
   "id": "5191f220-cb55-4960-aceb-cf39809742f7",
   "metadata": {},
   "outputs": [],
   "source": []
  }
 ],
 "metadata": {
  "kernelspec": {
   "display_name": "Python 3 (ipykernel)",
   "language": "python",
   "name": "python3"
  },
  "language_info": {
   "codemirror_mode": {
    "name": "ipython",
    "version": 3
   },
   "file_extension": ".py",
   "mimetype": "text/x-python",
   "name": "python",
   "nbconvert_exporter": "python",
   "pygments_lexer": "ipython3",
   "version": "3.8.10"
  }
 },
 "nbformat": 4,
 "nbformat_minor": 5
}
