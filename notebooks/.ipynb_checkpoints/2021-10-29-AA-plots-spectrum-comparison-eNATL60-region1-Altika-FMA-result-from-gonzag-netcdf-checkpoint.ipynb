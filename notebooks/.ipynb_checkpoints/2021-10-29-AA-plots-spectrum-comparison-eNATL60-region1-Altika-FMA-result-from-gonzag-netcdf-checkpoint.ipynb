{
 "cells": [
  {
   "cell_type": "markdown",
   "id": "disabled-baker",
   "metadata": {},
   "source": [
    "# Comparison of spectrum between eNATL60 outputs and Altika Satellite for Region 1 and ASO months\n",
    "\n",
    "Requisites :\n",
    " - notebook process-spectrum-comparison-eNATL60-region1-Altkia-ASO has successfully run and produced all the necessary result_*.nc in results_Altika-eNATL60-Region1-ASO\n",
    " - gonzag_cloud\n",
    " - climporn\n",
    " \n"
   ]
  },
  {
   "cell_type": "code",
   "execution_count": 1,
   "id": "lesser-interaction",
   "metadata": {},
   "outputs": [],
   "source": [
    "import sys,os\n",
    "from os import getenv\n",
    "import warnings\n",
    "warnings.filterwarnings(\"ignore\")"
   ]
  },
  {
   "cell_type": "code",
   "execution_count": 2,
   "id": "corresponding-consumer",
   "metadata": {},
   "outputs": [],
   "source": [
    "GONZAG_DIR = '/home/jovyan/gonzag_cloud'\n",
    "sys.path.append(GONZAG_DIR)\n",
    "import gonzag as gz\n"
   ]
  },
  {
   "cell_type": "code",
   "execution_count": 3,
   "id": "impossible-scholar",
   "metadata": {},
   "outputs": [],
   "source": [
    "import xarray as xr\n",
    "import sys\n",
    "import glob\n",
    "import numpy as nmp\n",
    "import pandas as pd\n",
    "\n",
    "import matplotlib\n",
    "import matplotlib.pyplot as plt\n",
    "import matplotlib.dates as mdates\n",
    "\n",
    "import cartopy.crs as ccrs\n",
    "import cartopy.feature as cfeature\n",
    "import cartopy.mpl.ticker as cticker\n",
    "\n",
    "from scipy.signal import detrend, tukey\n",
    "\n",
    "%matplotlib inline\n"
   ]
  },
  {
   "cell_type": "code",
   "execution_count": 4,
   "id": "biblical-patent",
   "metadata": {},
   "outputs": [],
   "source": [
    "CLIMPORN_DIR = '/home/jovyan/climporn/python' ; # get it there: https://github.com/brodeau/climporn\n",
    "sys.path.append(CLIMPORN_DIR)\n",
    "import climporn as cp\n"
   ]
  },
  {
   "cell_type": "markdown",
   "id": "14452f7f-738e-4646-ab38-7206ddeba49b",
   "metadata": {},
   "source": [
    "### Params"
   ]
  },
  {
   "cell_type": "markdown",
   "id": "254f15e9-8111-41da-b14e-7530203ec139",
   "metadata": {},
   "source": [
    "For the model"
   ]
  },
  {
   "cell_type": "code",
   "execution_count": 5,
   "id": "e84b730a-01b3-44f8-b1f5-ca242f5001fe",
   "metadata": {},
   "outputs": [],
   "source": [
    "model = 'eNATL60'\n",
    "region = '1'\n",
    "season = 'fma'\n",
    "name_mod = model+'-Region'+region+'-'+season\n",
    "name_ssh_mod = 'sossheig_bl'\n"
   ]
  },
  {
   "cell_type": "markdown",
   "id": "c774fc99-f592-4365-a8ad-7b480aaf6c76",
   "metadata": {},
   "source": [
    "For altimetry data"
   ]
  },
  {
   "cell_type": "code",
   "execution_count": 6,
   "id": "14d003be-3b8c-4327-977c-7aaaa3a38c3a",
   "metadata": {},
   "outputs": [],
   "source": [
    "name_sat= 'Altika'\n",
    "name_ssh_sat='sla_unfiltered'\n"
   ]
  },
  {
   "cell_type": "markdown",
   "id": "outstanding-turkey",
   "metadata": {},
   "source": [
    "### Data"
   ]
  },
  {
   "cell_type": "code",
   "execution_count": 7,
   "id": "joined-custom",
   "metadata": {},
   "outputs": [],
   "source": [
    "fresults=sorted(glob.glob('../results/results_'+name_sat+'-'+name_mod+'/result_??.nc'))\n",
    "dsn=xr.open_mfdataset(fresults,concat_dim='time',combine='nested')"
   ]
  },
  {
   "cell_type": "code",
   "execution_count": 8,
   "id": "variable-stereo",
   "metadata": {},
   "outputs": [],
   "source": [
    "#clean up some remaining Nans\n",
    "\n",
    "ds=dsn.where(nmp.isnan(dsn[name_ssh_sat])==0, drop=True)"
   ]
  },
  {
   "cell_type": "code",
   "execution_count": 9,
   "id": "aaeb8991-66a6-4562-a132-4d91c26c5201",
   "metadata": {},
   "outputs": [
    {
     "name": "stdout",
     "output_type": "stream",
     "text": [
      "[-0.06541651  0.25607326  0.25922199 ... -0.21118741 -0.30652857\n",
      " -0.30651113]\n"
     ]
    }
   ],
   "source": [
    "print(ds[name_ssh_mod].values)"
   ]
  },
  {
   "cell_type": "markdown",
   "id": "demonstrated-irish",
   "metadata": {},
   "source": [
    "### Spectrum"
   ]
  },
  {
   "cell_type": "code",
   "execution_count": 10,
   "id": "tested-reading",
   "metadata": {},
   "outputs": [
    {
     "name": "stdout",
     "output_type": "stream",
     "text": [
      " *** [SegmentSelection()]: Will use 23 segments with a fixed length of 100 points!\n",
      "     ==> 23 selected segments out of the 240 available (requested minimum length is 70 points)\n",
      "\n",
      "CPU times: user 4min 12s, sys: 14.6 s, total: 4min 26s\n",
      "Wall time: 4min 11s\n"
     ]
    }
   ],
   "source": [
    "%%time\n",
    "\n",
    "ISeg_beg, ISeg_end = gz.FindUnbrokenSegments( ds.time, ds.distance, ds[name_ssh_mod],\\\n",
    "                                             rcut_time=1.2e+09, rcut_dist=7.8 )\n",
    "NbSeg, Nsl, IDEDSeg = gz.SegmentSelection(ISeg_beg, ISeg_end, np_valid_seg=70)\n",
    "\n"
   ]
  },
  {
   "cell_type": "code",
   "execution_count": 17,
   "id": "f34461a8-97a8-43bf-8c36-3f1649986574",
   "metadata": {},
   "outputs": [
    {
     "data": {
      "text/plain": [
       "array([4865, 4964])"
      ]
     },
     "execution_count": 17,
     "metadata": {},
     "output_type": "execute_result"
    }
   ],
   "source": [
    "IDEDSeg[15]"
   ]
  },
  {
   "cell_type": "code",
   "execution_count": 18,
   "id": "1416fc9c-41ed-430f-8a5c-707354b7a937",
   "metadata": {},
   "outputs": [],
   "source": [
    "IDEDSeg2=nmp.delete(IDEDSeg, 15, axis=0)\n",
    "NbSeg2=NbSeg-1"
   ]
  },
  {
   "cell_type": "code",
   "execution_count": 19,
   "id": "4eb0fc95-107a-4708-8145-b45ecff03f10",
   "metadata": {},
   "outputs": [
    {
     "data": {
      "text/plain": [
       "array([[ 377,  476],\n",
       "       [ 810,  909],\n",
       "       [1147, 1246],\n",
       "       [1388, 1487],\n",
       "       [1547, 1646],\n",
       "       [1746, 1845],\n",
       "       [1918, 2017],\n",
       "       [2091, 2190],\n",
       "       [2413, 2512],\n",
       "       [2833, 2932],\n",
       "       [3540, 3639],\n",
       "       [3753, 3852],\n",
       "       [3925, 4024],\n",
       "       [4098, 4197],\n",
       "       [4263, 4362],\n",
       "       [5616, 5715],\n",
       "       [5959, 6058],\n",
       "       [6281, 6380],\n",
       "       [7605, 7704],\n",
       "       [8087, 8186],\n",
       "       [8672, 8771],\n",
       "       [9454, 9553]])"
      ]
     },
     "execution_count": 19,
     "metadata": {},
     "output_type": "execute_result"
    }
   ],
   "source": [
    "IDEDSeg2"
   ]
  },
  {
   "cell_type": "code",
   "execution_count": 20,
   "id": "165dcdd3-be59-43e7-ad30-957d9d570713",
   "metadata": {},
   "outputs": [
    {
     "name": "stdout",
     "output_type": "stream",
     "text": [
      " *** [Process4FFT()]: applying linear detrending...\n",
      " *** [Process4FFT()]: centering about 0...\n",
      " *** [Process4FFT()]: applying \"Tukey\" tappering...\n",
      "\n",
      " *** [ApplyFFT()]: Applying FFT with a dx_sample of  6.603  km\n",
      "\n"
     ]
    }
   ],
   "source": [
    "XPs, XPm, rdist_sample = gz.Process4FFT( IDEDSeg2, ds.distance, ds[name_ssh_mod], ds[name_ssh_sat] )\n",
    "Kwn, PwSpc_s, PwSpc_m = gz.ApplyFFT( IDEDSeg2, XPs, XPm, rdist_sample )\n",
    "\n",
    "# Building our spectrum as the mean of the NbSeg spectra:\n",
    "vps_mod = nmp.mean(PwSpc_m[:,:],axis=0)\n",
    "vps_sat = nmp.mean(PwSpc_s[:,:],axis=0)\n"
   ]
  },
  {
   "cell_type": "code",
   "execution_count": 21,
   "id": "first-latitude",
   "metadata": {},
   "outputs": [
    {
     "name": "stderr",
     "output_type": "stream",
     "text": [
      "findfont: Font family ['Trebuchet MS'] not found. Falling back to DejaVu Sans.\n"
     ]
    }
   ],
   "source": [
    "# Blabla for the plot:\n",
    "clr_sat = '#AD0000'\n",
    "clr_mod = '#008ab8'\n",
    "\n",
    "cinfrm = str(NbSeg)+' segments\\n'+str(Nsl)+' points/segment\\n'+r'$\\Delta$d sat.: '+str(round(rdist_sample,1))+' km'\n",
    "\n",
    "ii = cp.plot(\"pow_spectrum_ssh\")(Kwn, vps_mod, clab1=name_mod+' (\"'+name_ssh_mod+'\")', clr1=clr_mod, lw1=5, \\\n",
    "                                 cinfo=cinfrm, logo_on=False, \\\n",
    "                                 L_min=13., L_max=500., P_min_y=-6, P_max_y=1, \\\n",
    "                                 l_show_k4=False, l_show_k5=True, l_show_k11o3=False, l_show_k2=True, \\\n",
    "                                 vk2=Kwn, vps2=vps_sat, clab2=name_sat+' (\"'+name_ssh_sat+'\")', clr2=clr_sat, lw2=4)\n",
    "\n",
    "plt.savefig('../plots/spectrum_SSH_'+name_sat+'-'+name_mod+'.png')\n"
   ]
  },
  {
   "cell_type": "code",
   "execution_count": null,
   "id": "f786a455-a156-45c2-b6eb-9f6a19cfeb65",
   "metadata": {},
   "outputs": [],
   "source": []
  }
 ],
 "metadata": {
  "kernelspec": {
   "display_name": "Python 3 (ipykernel)",
   "language": "python",
   "name": "python3"
  },
  "language_info": {
   "codemirror_mode": {
    "name": "ipython",
    "version": 3
   },
   "file_extension": ".py",
   "mimetype": "text/x-python",
   "name": "python",
   "nbconvert_exporter": "python",
   "pygments_lexer": "ipython3",
   "version": "3.8.10"
  }
 },
 "nbformat": 4,
 "nbformat_minor": 5
}
