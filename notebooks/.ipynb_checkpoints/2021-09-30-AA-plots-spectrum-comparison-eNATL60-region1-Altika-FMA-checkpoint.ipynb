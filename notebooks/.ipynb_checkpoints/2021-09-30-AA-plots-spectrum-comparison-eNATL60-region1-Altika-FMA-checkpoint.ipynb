{
 "cells": [
  {
   "cell_type": "markdown",
   "id": "disabled-baker",
   "metadata": {},
   "source": [
    "# Comparison of spectrum between eNATL60 outputs and Altika Satellite for Region 1 and ASO months\n",
    "\n",
    "Requisites :\n",
    " - notebook process-spectrum-comparison-eNATL60-region1-Altkia-ASO has successfully run and produced all the necessary result_*.nc in results_Altika-eNATL60-Region1-ASO\n",
    " - gonzag_cloud\n",
    " - climporn\n",
    " \n"
   ]
  },
  {
   "cell_type": "code",
   "execution_count": 1,
   "id": "lesser-interaction",
   "metadata": {},
   "outputs": [],
   "source": [
    "import sys,os\n",
    "from os import getenv\n",
    "import warnings\n",
    "warnings.filterwarnings(\"ignore\")"
   ]
  },
  {
   "cell_type": "code",
   "execution_count": 2,
   "id": "corresponding-consumer",
   "metadata": {},
   "outputs": [],
   "source": [
    "GONZAG_DIR = '/home/jovyan/gonzag_cloud'\n",
    "sys.path.append(GONZAG_DIR)\n",
    "import gonzag as gz\n"
   ]
  },
  {
   "cell_type": "code",
   "execution_count": 3,
   "id": "impossible-scholar",
   "metadata": {},
   "outputs": [],
   "source": [
    "import xarray as xr\n",
    "import sys\n",
    "import glob\n",
    "import numpy as nmp\n",
    "import pandas as pd\n",
    "\n",
    "import matplotlib\n",
    "import matplotlib.pyplot as plt\n",
    "import matplotlib.dates as mdates\n",
    "\n",
    "import cartopy.crs as ccrs\n",
    "import cartopy.feature as cfeature\n",
    "import cartopy.mpl.ticker as cticker\n",
    "\n",
    "from scipy.signal import detrend, tukey\n",
    "\n",
    "%matplotlib inline\n"
   ]
  },
  {
   "cell_type": "code",
   "execution_count": 4,
   "id": "biblical-patent",
   "metadata": {},
   "outputs": [],
   "source": [
    "CLIMPORN_DIR = '/home/jovyan/climporn/python' ; # get it there: https://github.com/brodeau/climporn\n",
    "sys.path.append(CLIMPORN_DIR)\n",
    "import climporn as cp\n"
   ]
  },
  {
   "cell_type": "markdown",
   "id": "14452f7f-738e-4646-ab38-7206ddeba49b",
   "metadata": {},
   "source": [
    "### Params"
   ]
  },
  {
   "cell_type": "markdown",
   "id": "254f15e9-8111-41da-b14e-7530203ec139",
   "metadata": {},
   "source": [
    "For the model"
   ]
  },
  {
   "cell_type": "code",
   "execution_count": 5,
   "id": "e84b730a-01b3-44f8-b1f5-ca242f5001fe",
   "metadata": {},
   "outputs": [],
   "source": [
    "model = 'eNATL60'\n",
    "region = '1'\n",
    "season = 'fma'\n",
    "name_mod = model+'-Region'+region+'-'+season\n",
    "name_ssh_mod = 'sossheig_bl'\n"
   ]
  },
  {
   "cell_type": "markdown",
   "id": "c774fc99-f592-4365-a8ad-7b480aaf6c76",
   "metadata": {},
   "source": [
    "For altimetry data"
   ]
  },
  {
   "cell_type": "code",
   "execution_count": 6,
   "id": "14d003be-3b8c-4327-977c-7aaaa3a38c3a",
   "metadata": {},
   "outputs": [],
   "source": [
    "name_sat= 'Altika'\n",
    "name_ssh_sat='sla_unfiltered'\n"
   ]
  },
  {
   "cell_type": "markdown",
   "id": "outstanding-turkey",
   "metadata": {},
   "source": [
    "### Data"
   ]
  },
  {
   "cell_type": "code",
   "execution_count": 7,
   "id": "joined-custom",
   "metadata": {},
   "outputs": [],
   "source": [
    "fresults=sorted(glob.glob('../results/results_'+name_sat+'-'+name_mod+'/result_??.nc'))\n",
    "dsn=xr.open_mfdataset(fresults,concat_dim='time',combine='nested')"
   ]
  },
  {
   "cell_type": "code",
   "execution_count": 8,
   "id": "variable-stereo",
   "metadata": {},
   "outputs": [],
   "source": [
    "#clean up some remaining Nans\n",
    "\n",
    "ds=dsn.where(nmp.isnan(dsn[name_ssh_sat])==0, drop=True)"
   ]
  },
  {
   "cell_type": "code",
   "execution_count": 9,
   "id": "aaeb8991-66a6-4562-a132-4d91c26c5201",
   "metadata": {},
   "outputs": [
    {
     "name": "stdout",
     "output_type": "stream",
     "text": [
      "[-0.06541651  0.25607326  0.25922199 ... -0.21118741 -0.30652857\n",
      " -0.30651113]\n"
     ]
    }
   ],
   "source": [
    "print(ds[name_ssh_mod].values)"
   ]
  },
  {
   "cell_type": "markdown",
   "id": "demonstrated-irish",
   "metadata": {},
   "source": [
    "### Spectrum"
   ]
  },
  {
   "cell_type": "code",
   "execution_count": 10,
   "id": "tested-reading",
   "metadata": {},
   "outputs": [
    {
     "name": "stdout",
     "output_type": "stream",
     "text": [
      " *** [SegmentSelection()]: Will use 23 segments with a fixed length of 100 points!\n",
      "     ==> 23 selected segments out of the 240 available (requested minimum length is 70 points)\n",
      "\n",
      "CPU times: user 4min 8s, sys: 14.9 s, total: 4min 23s\n",
      "Wall time: 4min 7s\n"
     ]
    }
   ],
   "source": [
    "%%time\n",
    "\n",
    "ISeg_beg, ISeg_end = gz.FindUnbrokenSegments( ds.time, ds.distance, ds[name_ssh_mod],\\\n",
    "                                             rcut_time=1.2e+09, rcut_dist=7.8 )\n",
    "NbSeg, Nsl, IDEDSeg = gz.SegmentSelection(ISeg_beg, ISeg_end, np_valid_seg=70)\n",
    "\n"
   ]
  },
  {
   "cell_type": "code",
   "execution_count": 11,
   "id": "1416fc9c-41ed-430f-8a5c-707354b7a937",
   "metadata": {},
   "outputs": [
    {
     "name": "stdout",
     "output_type": "stream",
     "text": [
      "23 100\n"
     ]
    }
   ],
   "source": [
    "print(NbSeg, Nsl)"
   ]
  },
  {
   "cell_type": "code",
   "execution_count": 12,
   "id": "e789e3e9-52cd-4fa9-98c8-c704f2a2803c",
   "metadata": {},
   "outputs": [],
   "source": [
    "# Loop over the segments : plots of SSH\n",
    "\n",
    "for k in nmp.arange(NbSeg):\n",
    "    vs_s = nmp.zeros((1,Nsl))\n",
    "    vs_m = nmp.zeros((1,Nsl))\n",
    "    vs_s_detrend = nmp.zeros((1,Nsl))\n",
    "    vs_m_detrend = nmp.zeros((1,Nsl))\n",
    "    vs_s_center = nmp.zeros((1,Nsl))\n",
    "    vs_m_center = nmp.zeros((1,Nsl))\n",
    "    vs_s_tapper = nmp.zeros((1,Nsl))\n",
    "    vs_m_tapper = nmp.zeros((1,Nsl))\n",
    "    it1 = IDEDSeg[k,0]\n",
    "    it2 = IDEDSeg[k,1]\n",
    "\n",
    "    dist=ds.distance[it1:it2+1].values\n",
    "    vs_s[0,:] = ds[name_ssh_sat][it1:it2+1].values\n",
    "    vs_m[0,:] = ds[name_ssh_mod][it1:it2+1].values\n",
    "    vs_s_detrend[0,:] = detrend(vs_s[0,:],type='linear')\n",
    "    vs_m_detrend[0,:] = detrend(vs_m[0,:],type='linear')\n",
    "    vs_s_center[0,:] = vs_s_detrend[0,:] - nmp.mean(vs_s_detrend[0,:])\n",
    "    vs_m_center[0,:] = vs_m_detrend[0,:] - nmp.mean(vs_m_detrend[0,:])\n",
    "    wdw =  tukey(Nsl,0.5)\n",
    "    vs_s_tapper[0,:] = vs_s_center[0,:]*wdw\n",
    "    vs_m_tapper[0,:] = vs_m_center[0,:]*wdw\n",
    "\n",
    "    clr_sat = '#AD0000'\n",
    "    clr_mod = '#008ab8'\n",
    "    \n",
    "    fig = plt.figure(num = 1, figsize=(15,30), facecolor='w', edgecolor='k')\n",
    "    ax1 = plt.subplot(411)\n",
    "    l1,=ax1.plot(dist, vs_s[0], '.-', color=clr_sat, markersize=5, \n",
    "             alpha=0.5, label=name_sat, zorder=10)\n",
    "    l2,=ax1.plot(dist, vs_m[0], '.-', color=clr_mod, markersize=5, \n",
    "             alpha=0.5, label=name_mod, zorder=10)\n",
    "    ax1.legend(handles = [l1,l2], bbox_to_anchor=(0.2,  0.3), ncol=1, shadow=True, fancybox=True)\n",
    "    ax2 = plt.subplot(412)\n",
    "    l3,=ax2.plot(dist, vs_s_detrend[0], '.-', color=clr_sat, markersize=5, \n",
    "             alpha=0.5, label=name_sat+' detrend', zorder=10)\n",
    "    l4,=ax2.plot(dist, vs_m_detrend[0], '.-', color=clr_mod, markersize=5, \n",
    "             alpha=0.5, label=name_mod+' detrend', zorder=10)\n",
    "    ax2.legend(handles = [l3,l4],bbox_to_anchor=(0.2,  0.7), ncol=1, shadow=True, fancybox=True)\n",
    "    ax3 = plt.subplot(413)\n",
    "    l5,=ax3.plot(dist, vs_s_center[0], '.-', color=clr_sat, markersize=5, \n",
    "             alpha=0.5, label=name_sat+' center', zorder=10)\n",
    "    l6,=ax3.plot(dist, vs_m_center[0], '.-', color=clr_mod, markersize=5, \n",
    "             alpha=0.5, label=name_mod+' center', zorder=10)\n",
    "    ax3.legend(handles = [l5,l6],bbox_to_anchor=(0.2,  0.7), ncol=1, shadow=True, fancybox=True)\n",
    "    ax4 = plt.subplot(414)\n",
    "    l7,=ax4.plot(dist, vs_s_tapper[0], '.-', color=clr_sat, markersize=5, \n",
    "             alpha=0.5, label=name_sat+' tapper', zorder=10)\n",
    "    l8,=ax4.plot(dist, vs_m_tapper[0], '.-', color=clr_mod, markersize=5, \n",
    "             alpha=0.5, label=name_mod+' tapper', zorder=10)\n",
    "    ax4.legend(handles = [l7,l8],bbox_to_anchor=(0.2, 0.9), ncol=1, shadow=True, fancybox=True)\n",
    "    plt.title('Segment no '+str(k))\n",
    "    plt.savefig('../plots/debug/ssh_'+name_sat+'-'+name_mod+'_segment'+str(k)+'.png')\n",
    "    del fig, ax1, ax2, ax3, ax4"
   ]
  },
  {
   "cell_type": "code",
   "execution_count": 57,
   "id": "2aba4182-1581-4152-bf9d-6b3366e844f8",
   "metadata": {},
   "outputs": [],
   "source": []
  },
  {
   "cell_type": "code",
   "execution_count": null,
   "id": "165dcdd3-be59-43e7-ad30-957d9d570713",
   "metadata": {},
   "outputs": [],
   "source": [
    "XPs, XPm, rdist_sample = gz.Process4FFT( IDEDSeg, ds.distance, ds[name_ssh_mod], ds[name_ssh_sat] )\n",
    "Kwn, PwSpc_s, PwSpc_m = gz.ApplyFFT( IDEDSeg, XPs, XPm, rdist_sample )\n",
    "\n",
    "# Building our spectrum as the mean of the NbSeg spectra:\n",
    "vps_mod = nmp.mean(PwSpc_m[:,:],axis=0)\n",
    "vps_sat = nmp.mean(PwSpc_s[:,:],axis=0)\n"
   ]
  },
  {
   "cell_type": "code",
   "execution_count": null,
   "id": "first-latitude",
   "metadata": {},
   "outputs": [],
   "source": [
    "# Blabla for the plot:\n",
    "clr_sat = '#AD0000'\n",
    "clr_mod = '#008ab8'\n",
    "\n",
    "cinfrm = str(NbSeg)+' segments\\n'+str(Nsl)+' points/segment\\n'+r'$\\Delta$d sat.: '+str(round(rdist_sample,1))+' km'\n",
    "\n",
    "ii = cp.plot(\"pow_spectrum_ssh\")(Kwn, vps_mod, clab1=name_mod+' (\"'+name_ssh_mod+'\")', clr1=clr_mod, lw1=5, \\\n",
    "                                 cinfo=cinfrm, logo_on=False, \\\n",
    "                                 L_min=13., L_max=500., P_min_y=-6, P_max_y=1, \\\n",
    "                                 l_show_k4=False, l_show_k5=True, l_show_k11o3=False, l_show_k2=True, \\\n",
    "                                 vk2=Kwn, vps2=vps_sat, clab2=name_sat+' (\"'+name_ssh_sat+'\")', clr2=clr_sat, lw2=4)\n",
    "\n",
    "plt.savefig('../plots/spectrum_SSH_'+name_sat+'-'+name_mod+'.png')\n"
   ]
  },
  {
   "cell_type": "code",
   "execution_count": null,
   "id": "f786a455-a156-45c2-b6eb-9f6a19cfeb65",
   "metadata": {},
   "outputs": [],
   "source": []
  }
 ],
 "metadata": {
  "kernelspec": {
   "display_name": "Python 3 (ipykernel)",
   "language": "python",
   "name": "python3"
  },
  "language_info": {
   "codemirror_mode": {
    "name": "ipython",
    "version": 3
   },
   "file_extension": ".py",
   "mimetype": "text/x-python",
   "name": "python",
   "nbconvert_exporter": "python",
   "pygments_lexer": "ipython3",
   "version": "3.8.10"
  }
 },
 "nbformat": 4,
 "nbformat_minor": 5
}
